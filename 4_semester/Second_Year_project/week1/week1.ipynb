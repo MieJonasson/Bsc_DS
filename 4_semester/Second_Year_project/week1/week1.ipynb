{
 "cells": [
  {
   "cell_type": "markdown",
   "metadata": {},
   "source": [
    "# Week 1 - Second Year Project\n",
    "\n",
    "---"
   ]
  },
  {
   "cell_type": "markdown",
   "metadata": {},
   "source": [
    "**Learning goals**\n",
    "\n",
    "- be familiar with the concept of regular expressions\n",
    "- be able to discuss issues that arise in tokenization and segmentation\n",
    "- be able to use the Unix command-line tools for navigation, search (`grep`), count (`wc`), and basic text processing (`sed` for substitution), as well as the pipe (`|`), e.g., to count word types or extract a simple word frequency list\n",
    "\n",
    "**Notebook overview**\n",
    "\n",
    "*Lecture 1*\n",
    "1. Regular expressions - get basic familiarity with the concept\n",
    "2. Tokenization - learn about how to approach tokenization and its challenges, then apply the knowledge to a small example text\n",
    "3. Twitter tokenization - learn how to tokenize domain specific text\n",
    "4. Sentence segmentation - learn how to segment given text into sentences\n",
    "\n",
    "*Lecture 2*\n",
    "\n",
    "5. Linux Command Line for NLP - learn how to use command line to quickly extract useful information from provided text file\n",
    "6. Advanced Use of Linux Command Line - construct more complex command to extract word frequency from a text"
   ]
  },
  {
   "cell_type": "markdown",
   "metadata": {},
   "source": [
    "\n",
    "## 1. Regular Expressions (pen and paper)\n",
    "For this section, it might be handy to use the website https://regex101.com/ to test your solutions.\n",
    "Note: By word, we mean any alphabetic string separated from other words by whitespace, any relevant punctuation, line breaks, etc., as defined in [J&M](https://web.stanford.edu/~jurafsky/slp3/old_dec21/). If we do not specify word, any substring match might be sufficient.\n",
    "- a) Write a regular expression (regex or pattern) that matches any of the following words: `cat`, `sat`, `mat`.\n",
    "<br>\n",
    "(Bonus: What is a possible long solution? Can you find a shorter solution? hint: match characters instead of words)\n",
    "- b) Write a regular expression that matches numbers, e.g. 12, 1,000, 39.95\n",
    "- c) Expand the previous solution to match Danish prices indications, e.g., `1,000 kr` or `39.95 DKK` or `19.95`."
   ]
  },
  {
   "cell_type": "markdown",
   "metadata": {},
   "source": [
    "## 2. Tokenization\n",
    "\n",
    "(Adapted notebook from S. Riedel, UCL & Facebook: https://github.com/uclnlp/stat-nlp-book).\n",
    "\n",
    "In Python, a simple way to tokenize a text is via the `split` method that divides a text wherever a particular substring is found. In the code below this pattern is simply the whitespace character, and this seems like a reasonable starting point for an English tokenization approach.\n",
    "\n",
    "This is analogous to the `sed` command we have seen in the lecture."
   ]
  },
  {
   "cell_type": "code",
   "execution_count": null,
   "metadata": {},
   "outputs": [
    {
     "data": {
      "text/plain": [
       "['Mr.',\n",
       " 'Bob',\n",
       " 'Dobolina',\n",
       " 'is',\n",
       " \"thinkin'\",\n",
       " 'of',\n",
       " 'a',\n",
       " 'master',\n",
       " 'plan.\\nWhy',\n",
       " \"doesn't\",\n",
       " 'he',\n",
       " 'quit?']"
      ]
     },
     "execution_count": 1,
     "metadata": {},
     "output_type": "execute_result"
    }
   ],
   "source": [
    "text = \"Mr. Bob Dobolina is thinkin' of a master plan.\" + \\\n",
    "       \"\\nWhy doesn't he quit?\"\n",
    "text.split(\" \")"
   ]
  },
  {
   "cell_type": "markdown",
   "metadata": {},
   "source": [
    "To make more fine-grained decision, we will focus on using regular expressions for tokenization in this assignment. This can be done by either:\n",
    "1. Defining the character sequence patterns at which to split.\n",
    "2. Specifying patters that define what constitutes a token. \n",
    "\n",
    "In the code below we use a simple pattern `\\s` that matches **any whitespace** to define where to split."
   ]
  },
  {
   "cell_type": "code",
   "execution_count": 2,
   "metadata": {},
   "outputs": [
    {
     "ename": "NameError",
     "evalue": "name 'text' is not defined",
     "output_type": "error",
     "traceback": [
      "\u001b[1;31m---------------------------------------------------------------------------\u001b[0m",
      "\u001b[1;31mNameError\u001b[0m                                 Traceback (most recent call last)",
      "\u001b[1;32mc:\\Users\\jonas\\Desktop\\NLP\\week1\\week1.ipynb Cell 7\u001b[0m in \u001b[0;36m<module>\u001b[1;34m\u001b[0m\n\u001b[0;32m      <a href='vscode-notebook-cell:/c%3A/Users/jonas/Desktop/NLP/week1/week1.ipynb#W6sZmlsZQ%3D%3D?line=0'>1</a>\u001b[0m \u001b[39mimport\u001b[39;00m \u001b[39mre\u001b[39;00m\n\u001b[0;32m      <a href='vscode-notebook-cell:/c%3A/Users/jonas/Desktop/NLP/week1/week1.ipynb#W6sZmlsZQ%3D%3D?line=1'>2</a>\u001b[0m gap \u001b[39m=\u001b[39m re\u001b[39m.\u001b[39mcompile(\u001b[39m'\u001b[39m\u001b[39m\\\u001b[39m\u001b[39ms\u001b[39m\u001b[39m'\u001b[39m)\n\u001b[1;32m----> <a href='vscode-notebook-cell:/c%3A/Users/jonas/Desktop/NLP/week1/week1.ipynb#W6sZmlsZQ%3D%3D?line=2'>3</a>\u001b[0m gap\u001b[39m.\u001b[39msplit(text)\n",
      "\u001b[1;31mNameError\u001b[0m: name 'text' is not defined"
     ]
    }
   ],
   "source": [
    "import re\n",
    "gap = re.compile('\\s')\n",
    "gap.split(text)"
   ]
  },
  {
   "cell_type": "markdown",
   "metadata": {},
   "source": [
    "One **shortcoming** of this tokenization is its treatment of punctuation because it considers `plan.` as a token whereas ideally we would prefer `plan` and `.` to be distinct tokens. It might be easier to address this problem if we define what a token is, instead of what constitutes a gap. Below we have defined tokens as sequences of alphanumeric characters and punctuation."
   ]
  },
  {
   "cell_type": "code",
   "execution_count": 3,
   "metadata": {},
   "outputs": [
    {
     "ename": "NameError",
     "evalue": "name 'text' is not defined",
     "output_type": "error",
     "traceback": [
      "\u001b[1;31m---------------------------------------------------------------------------\u001b[0m",
      "\u001b[1;31mNameError\u001b[0m                                 Traceback (most recent call last)",
      "\u001b[1;32mc:\\Users\\jonas\\Desktop\\NLP\\week1\\week1.ipynb Cell 9\u001b[0m in \u001b[0;36m<module>\u001b[1;34m\u001b[0m\n\u001b[0;32m      <a href='vscode-notebook-cell:/c%3A/Users/jonas/Desktop/NLP/week1/week1.ipynb#X11sZmlsZQ%3D%3D?line=0'>1</a>\u001b[0m token \u001b[39m=\u001b[39m re\u001b[39m.\u001b[39mcompile(\u001b[39m'\u001b[39m\u001b[39m\\\u001b[39m\u001b[39mw+|[.?:]\u001b[39m\u001b[39m'\u001b[39m)\n\u001b[1;32m----> <a href='vscode-notebook-cell:/c%3A/Users/jonas/Desktop/NLP/week1/week1.ipynb#X11sZmlsZQ%3D%3D?line=1'>2</a>\u001b[0m token\u001b[39m.\u001b[39mfindall(text)\n",
      "\u001b[1;31mNameError\u001b[0m: name 'text' is not defined"
     ]
    }
   ],
   "source": [
    "token = re.compile('\\w+|[.?:]')\n",
    "token.findall(text)"
   ]
  },
  {
   "cell_type": "markdown",
   "metadata": {},
   "source": [
    "This still isn't perfect as `Mr.` is split into two tokens, but it should be a single token. Moreover, we have actually lost an apostrophe. Both are fixed below, although we now fail to break up the contraction `doesn't`."
   ]
  },
  {
   "cell_type": "code",
   "execution_count": 4,
   "metadata": {},
   "outputs": [
    {
     "ename": "NameError",
     "evalue": "name 'text' is not defined",
     "output_type": "error",
     "traceback": [
      "\u001b[1;31m---------------------------------------------------------------------------\u001b[0m",
      "\u001b[1;31mNameError\u001b[0m                                 Traceback (most recent call last)",
      "\u001b[1;32mc:\\Users\\jonas\\Desktop\\NLP\\week1\\week1.ipynb Cell 11\u001b[0m in \u001b[0;36m<module>\u001b[1;34m\u001b[0m\n\u001b[0;32m      <a href='vscode-notebook-cell:/c%3A/Users/jonas/Desktop/NLP/week1/week1.ipynb#X13sZmlsZQ%3D%3D?line=0'>1</a>\u001b[0m token \u001b[39m=\u001b[39m re\u001b[39m.\u001b[39mcompile(\u001b[39m'\u001b[39m\u001b[39mMr.|[\u001b[39m\u001b[39m\\\u001b[39m\u001b[39mw\u001b[39m\u001b[39m\\'\u001b[39;00m\u001b[39m]+|[.?]\u001b[39m\u001b[39m'\u001b[39m)\n\u001b[1;32m----> <a href='vscode-notebook-cell:/c%3A/Users/jonas/Desktop/NLP/week1/week1.ipynb#X13sZmlsZQ%3D%3D?line=1'>2</a>\u001b[0m tokens \u001b[39m=\u001b[39m token\u001b[39m.\u001b[39mfindall(text)\n\u001b[0;32m      <a href='vscode-notebook-cell:/c%3A/Users/jonas/Desktop/NLP/week1/week1.ipynb#X13sZmlsZQ%3D%3D?line=2'>3</a>\u001b[0m tokens\n",
      "\u001b[1;31mNameError\u001b[0m: name 'text' is not defined"
     ]
    }
   ],
   "source": [
    "token = re.compile('Mr.|[\\w\\']+|[.?]')\n",
    "tokens = token.findall(text)\n",
    "tokens"
   ]
  },
  {
   "cell_type": "markdown",
   "metadata": {},
   "source": [
    "In the code below, we have an input text and apply the tokenizer (described previously) on the text:"
   ]
  },
  {
   "cell_type": "code",
   "execution_count": 5,
   "metadata": {},
   "outputs": [
    {
     "name": "stdout",
     "output_type": "stream",
     "text": [
      "[\"'Curiouser\", 'and', 'curiouser', \"'\", 'cried', 'Alice', 'she', 'was', 'so', 'much']\n",
      "147\n"
     ]
    }
   ],
   "source": [
    "import re\n",
    "text = \"\"\"'Curiouser and curiouser!' cried Alice (she was so much surprised, that for the moment she quite\n",
    "forgot how to speak good English); 'now I'm opening out like the largest telescope that ever was! Good-bye,\n",
    "feet!' (for when she looked down at her feet, they seemed to be almost out of sight, they were getting so far\n",
    "off). 'Oh, my poor little feet, I wonder who will put on your shoes and stockings for you now, dears? I'm sure I\n",
    "shan't be able! I shall be a great deal too far off to trouble myself about you: you must manage the best\n",
    "way you can; —but I must be kind to them,' thought Alice, 'or perhaps they won't walk the way I want to go!\n",
    "Let me see: I'll give them a new pair of boots every Christmas...'\n",
    "\"\"\"\n",
    "\n",
    "token = re.compile('Mr.|[\\w\\']+|[.?]')\n",
    "tokens = token.findall(text)\n",
    "print(tokens[:10])\n",
    "print(len(tokens))"
   ]
  },
  {
   "cell_type": "markdown",
   "metadata": {},
   "source": [
    "Questions:\n",
    "\n",
    "* a) The tokenizer clearly makes a few mistakes. Where?\n",
    "\n",
    "* b) Write a tokenizer to correctly tokenize the text.\n",
    "\n",
    "* c) Should one separate `'m`, `'ll`, `n't`, possessives, and other forms of contractions from the word? Implement a tokenizer that separates these, and attaches the `'` to the latter part of the contraction.\n",
    "\n",
    "* d) Should elipsis (...) be considered as three `.`s or one `...`? Design a regular expression for both solutions.\n"
   ]
  },
  {
   "cell_type": "code",
   "execution_count": 6,
   "metadata": {},
   "outputs": [
    {
     "name": "stdout",
     "output_type": "stream",
     "text": [
      "[\"'\", 'Curiouser', 'and', 'curiouser', '!', \"' \", 'cried', 'Alice', '(', 'she']\n",
      "171\n",
      "['to', 'go', '!', 'Let', 'me', 'see', ':', 'I', \"'ll\", 'give']\n",
      "177\n"
     ]
    }
   ],
   "source": [
    "# For a & b\n",
    "token2 = re.compile('^\\'|\\'$|\\s[\\'-]|[\\'-]\\s|Mr.|[\\w\\'-]+|\\.+|[?!)(,:;—]')\n",
    "tokens2 = token2.findall(text)\n",
    "print(tokens2[:10])\n",
    "print(len(tokens2))\n",
    "\n",
    "# For c \n",
    "token3 = re.compile('^\\'|\\'$|\\s[\\'-]|[\\'-]\\s|Mr.|I|[sS]han|[Ww]o|[\\w\\'-]+|\\.+|[?!)(,:;—]')\n",
    "tokens3 = token3.findall(text)\n",
    "print(tokens3[-20:-10])\n",
    "print(len(tokens3))\n",
    "\n",
    "# For d\n",
    "token_together = re.compile('^\\'|\\'$|\\s[\\'-]|[\\'-]\\s|Mr.|[\\w\\'-]+|\\.+|[?!)(,:;—]')\n",
    "token_apart = re.compile('^\\'|\\'$|\\s[\\'-]|[\\'-]\\s|Mr.|[\\w\\'-]+|\\.|[?!)(,:;—]')"
   ]
  },
  {
   "cell_type": "markdown",
   "metadata": {},
   "source": [
    "## 3. Twitter Tokenization\n",
    "As you might imagine, tokenizing tweets differs from standard tokenization. There are 'rules' on what specific elements of a tweet might be (mentions, hashtags, links), and how they are tokenized. The goal of this exercise is not to create a bullet-proof Twitter tokenizer but to understand tokenization in a different domain.\n",
    "\n",
    "In the next exercises, we will focus on the following tweet:"
   ]
  },
  {
   "cell_type": "code",
   "execution_count": 7,
   "metadata": {},
   "outputs": [],
   "source": [
    "tweet = \"@robv New vids coming tomorrow #excited_as_a_child, can't w8!!\""
   ]
  },
  {
   "cell_type": "code",
   "execution_count": 8,
   "metadata": {},
   "outputs": [
    {
     "name": "stdout",
     "output_type": "stream",
     "text": [
      "['robv', 'New', 'vids', 'coming', 'tomorrow', 'excited_as_a_child', 'can', 't', 'w8']\n"
     ]
    }
   ],
   "source": [
    "token = re.compile('[\\w]+')\n",
    "tokens = token.findall(tweet)\n",
    "print(tokens)"
   ]
  },
  {
   "cell_type": "markdown",
   "metadata": {},
   "source": [
    "Questions:\n",
    "- a) What is the correct tokenization of the tweet above according to you?\n",
    "- b) Try your tokenizer from the previous exercise (Question 4). Which cases are going wrong? Make sure your tokenizer handles the above tweet correctly.\n",
    "- c) Will your tokenizer correctly tokenize emojis?\n",
    "- d) Think of at least one other example where your tokenizer will behave incorrectly."
   ]
  },
  {
   "cell_type": "code",
   "execution_count": 9,
   "metadata": {},
   "outputs": [
    {
     "name": "stdout",
     "output_type": "stream",
     "text": [
      "['@robv', 'New', 'vids', 'coming', 'tomorrow', '#excited_as_a_child', ',', \"can't\", 'w8', '!!']\n"
     ]
    }
   ],
   "source": [
    "# a) @robv New vids coming tomorrow #excited_as_a_child , can't w8 !!\n",
    "# b)\n",
    "token = re.compile('^\\'|\\'$|\\s[\\'-]|[\\'-]\\s|Mr.|[#@]*[\\w\\'-]+|\\.+|[?!)(,:;—]+')\n",
    "tokens = token.findall(tweet)\n",
    "print(tokens)"
   ]
  },
  {
   "cell_type": "markdown",
   "metadata": {},
   "source": [
    "## 4. Segmentation\n"
   ]
  },
  {
   "cell_type": "markdown",
   "metadata": {},
   "source": [
    "Sentence segmentation is not a trivial task either.\n",
    "\n",
    "First, make sure you understand the following sentence segmentation code used in the lecture:"
   ]
  },
  {
   "cell_type": "code",
   "execution_count": 10,
   "metadata": {},
   "outputs": [],
   "source": [
    "import re\n",
    "\n",
    "def sentence_segment(match_regex, tokens):\n",
    "    \"\"\"\n",
    "    Splits a sequence of tokens into sentences, splitting wherever the given matching regular expression\n",
    "    matches.\n",
    "\n",
    "    Parameters\n",
    "    ----------\n",
    "    match_regex the regular expression that defines at which token to split.\n",
    "    tokens the input sequence of string tokens.\n",
    "\n",
    "    Returns\n",
    "    -------\n",
    "    a list of token lists, where each inner list represents a sentence.\n",
    "\n",
    "    >>> tokens = ['the','man','eats','.','She', 'sleeps', '.']\n",
    "    >>> sentence_segment(re.compile('\\.'), tokens)\n",
    "    [['the', 'man', 'eats', '.'], ['She', 'sleeps', '.']]\n",
    "    \"\"\"\n",
    "    current = []\n",
    "    sentences = [current]\n",
    "    for tok in tokens:\n",
    "        current.append(tok)\n",
    "        if match_regex.match(tok):\n",
    "            current = []\n",
    "            sentences.append(current)\n",
    "    if not sentences[-1]:\n",
    "        sentences.pop(-1)\n",
    "    return sentences\n"
   ]
  },
  {
   "cell_type": "markdown",
   "metadata": {},
   "source": [
    "In the following code, there is a variable `text` containing a small text and a regular expression-based segmenter:"
   ]
  },
  {
   "cell_type": "code",
   "execution_count": 11,
   "metadata": {
    "scrolled": true
   },
   "outputs": [
    {
     "name": "stdout",
     "output_type": "stream",
     "text": [
      "['Llanfairpwllgwyngyllgogerychwyrndrobwllllantysiliogogogoch', 'is', 'the', 'longest', 'official', 'one-word', 'placename', 'in', 'U.K.', 'Isn', \"'t\", 'that', 'weird', '?']\n",
      "['I', 'mean', ',', 'someone', 'took', 'the', 'effort', 'to', 'really', 'make', 'this', 'name', 'as', 'complicated', 'as', 'possible', ',', 'huh', '?!']\n",
      "['Of', 'course', ',', 'U.S.A.', 'also', 'has', 'its', 'own', 'record', 'in', 'the', 'longest', 'name', ',', 'albeit', 'a', 'bit', 'shorter', '...']\n",
      "['This', 'record', 'belongs', 'to', 'the', 'place', 'called', 'Chargoggagoggmanchauggagoggchaubunagungamaugg.', 'There', \"'s\", 'so', 'many', 'wonderful', 'little', 'details', 'one', 'can', 'find', 'out', 'while', 'browsing', 'http://www.wikipedia.org', 'during', 'their', 'Ph.D.', 'or', 'an', 'M.Sc.']\n"
     ]
    }
   ],
   "source": [
    "text = \"\"\"\n",
    "Llanfairpwllgwyngyllgogerychwyrndrobwllllantysiliogogogoch is the longest official one-word placename in U.K. Isn't that weird? I mean, someone took the effort to really make this name as complicated as possible, huh?! Of course, U.S.A. also has its own record in the longest name, albeit a bit shorter... This record belongs to the place called Chargoggagoggmanchauggagoggchaubunagungamaugg. There's so many wonderful little details one can find out while browsing http://www.wikipedia.org during their Ph.D. or an M.Sc.\n",
    "\"\"\"\n",
    "# B\n",
    "token = re.compile('[A-Z][\\w\\.]+|http://www\\.[\\w\\d]+\\.\\w+|[\\w\\'-]+|[.?!,]+')\n",
    "\n",
    "tokens = token.findall(text)\n",
    "sentences = sentence_segment(re.compile('[\\.?]'), tokens)\n",
    "for sentence in sentences:\n",
    "    print(sentence)\n",
    "\n",
    "# C, websites; http://www\\.[\\w\\d]+\\.\\w+\n",
    "# C, abbreviations; [A-Z][\\w\\.]+"
   ]
  },
  {
   "cell_type": "markdown",
   "metadata": {},
   "source": [
    "Questions:\n",
    "- a) Improve the segmenter so that it segments the text in the way you think it is correct.\n",
    "- b) How would you deal with all URLs effectively?\n",
    "- c) Can you think of other problematic cases not covered in the example?"
   ]
  },
  {
   "cell_type": "markdown",
   "metadata": {},
   "source": [
    "# Competition\n",
    "\n",
    "We host a competition on tokenizing English social media data. There is example data available for development, and instructions how to participate on: https://www.kaggle.com/competitions/twitter-tokenization"
   ]
  },
  {
   "cell_type": "code",
   "execution_count": 12,
   "metadata": {},
   "outputs": [],
   "source": [
    "import pandas as pd\n",
    "import csv"
   ]
  },
  {
   "cell_type": "code",
   "execution_count": 13,
   "metadata": {},
   "outputs": [],
   "source": [
    "x_train = pd.read_csv('twitter-tokenization/X_train.csv')\n",
    "y_train = pd.read_csv('twitter-tokenization/y_train.csv')\n",
    "train = x_train.merge(y_train)\n",
    "x_test = pd.read_csv('twitter-tokenization/X_test.csv')"
   ]
  },
  {
   "cell_type": "code",
   "execution_count": 138,
   "metadata": {},
   "outputs": [],
   "source": [
    "abbreviation_dict = {\n",
    "                    # Slang\n",
    "                    \"gonna\":\"gon na\", \"wanna\":\"wan na\", \"aint\":\"ai nt\", \"gotta\":\"got ta\", \"tryna\":\"try na\", \n",
    "                        \"Gonna\":\"Gon na\", \"Wanna\":\"Wan na\", \"Aint\":\"Ai nt\", \"Gotta\":\"Got ta\", \"Tryna\":\"Try na\",\n",
    "                        \"GONNA\":\"GON NA\", \"WANNA\":\"WAN NA\", \"AINT\":\"AI NT\", \"GOTTA\":\"GOT TA\", \"TRYNA\":\"TRY NA\",\n",
    "                    \"gimme\":\"gim me\", \"boutta\":\"bout ta\", \"kinda\":\"kind a\", #\"let's\":\"let 's\",\n",
    "                        \"Gimme\":\"Gim me\", \"Boutta\":\"Bout ta\", \"Kinda\":\"Kind a\", #\"Let's\":\"Let 's\",\n",
    "                        \"GIMME\":\"GIM ME\", \"BOUTTA\":\"BOUT TA\", \"KINDA\":\"KIND A\", #\"LET'S\":\"LET 'S\",\n",
    "\n",
    "                    # These are very much specific to the dataset (slang-language)\n",
    "                    \"thers\":\"ther s\", \"Thers\":\"Ther s\", \"dats\":\"dat s\", \"Dats\":\"Dat s\",\n",
    "                        \"wats\":\"wat s\", \"Wats\":\"Wat s\", \"WATS\":\"WAT S\", \"dnt\":\"d nt\",\n",
    "                        #\" ur \":\" u r \", \" Ur \":\" U r \", #These are ambiguously used for \"your\" and \"you're\"\n",
    "                        \"yll\":\"y ll\", \"Yll\":\"Y ll\", \"YLL\":\"Y LL\",\n",
    "                        \"y'all\":\"y 'all\", \"Y'all\":\"Y 'all\", \"Y'ALL\":\"Y 'ALL\",\n",
    "                            \"ya'll\":\"ya 'll\", \"Ya'll\":\"Ya 'll\", \"YA'LL\":\"YA 'LL\",\n",
    "                            \"yall\":\"y all\", \"Yall\":\"Y all\", \"YALL\":\"Y ALL\",\n",
    "                        \"hafta\":\"haf ta\", \"Hafta\":\"Haf ta\", \"HAFTA\":\"HAF TA\",\n",
    "                    \n",
    "                    # I\n",
    "                    \"I'm\":\"I 'm\", \"I'M\":\"I 'M\", \"i'm\":\"i 'm\",\n",
    "                        \"Im\":\"I m\", \"IM\":\"I M\", \"im\":\"i m\",\n",
    "                    \"I'd\":\"I 'd\", \"I'D\":\"I 'D\", \"i'd\":\"i 'd\",\n",
    "                        \"Id\":\"I d\", \"ID\":\"I D\", \"id\":\"i d\",\n",
    "                    \"I've\":\"I 've\", \"I'VE\":\"I 'VE\", \"i've\":\"i 've\",\n",
    "                        \"Ive\":\"I ve\", \"IVE\":\"I VE\", \"ive\":\"i ve\",\n",
    "                        \"I'v\":\"I 'v\", \"I'V\":\"I 'V\", \"i'v\":\"i 'v\",\n",
    "                            \"Iv\":\"I v\", \"IV\":\"I V\", \"iv\":\"i v\",\n",
    "                    \"I'll\":\"I 'll\", \"I'LL\":\"I 'LL\", \"i'll\":\"i 'll\",\n",
    "                        \"Ill\":\"I ll\", \"ILL\":\"I LL\", \"ill\":\"i ll\",\n",
    "                    \n",
    "                    # You\n",
    "                    \"you're\":\"you 're\", \"YOU'RE\":\"YOU 'RE\", \"You're\":\"You 're\",\n",
    "                        \"youre\":\"you re\", \"YOURE\":\"YOU RE\", \"Youre\":\"You re\",\n",
    "                    \"you'd\":\"you 'd\", \"YOU'D\":\"YOU 'D\", \"You'd\":\"You 'd\",\n",
    "                        \"youd\":\"you d\", \"YOUD\":\"YOU D\", \"Youd\":\"You d\",\n",
    "                    \"you'll\":\"you 'll\", \"YOU'LL\":\"YOU 'LL\", \"You'll\":\"You 'll\",\n",
    "                        \"youll\":\"you ll\", \"YOULL\":\"YOU LL\", \"Youll\":\"You ll\",\n",
    "\n",
    "                    # We\n",
    "                    \"we're\":\"we 're\", \"WE'RE\":\"WE 'RE\", \"We're\":\"We 're\",\n",
    "                    \"we'd\":\"we 'd\", \"WE'D\":\"WE 'D\", \"We'd\":\"We 'd\",\n",
    "                    \"we'll\":\"we 'll\", \"WE'LL\":\"WE 'LL\", \"We'll\":\"We 'll\",\n",
    "\n",
    "                    # He / She\n",
    "                    \"he's\":\"he 's\", \"He's\":\"He 's\", \"HE'S\":\"HE 'S\",\n",
    "                        \"hes\":\"he s\", \"Hes\":\"He s\", \"HES\":\"HE S\",\n",
    "                    \"she's\":\"she 's\", \"She's\":\"She 's\", \"SHE'S\":\"SHE 'S\",\n",
    "                        \"shes\":\"she s\", \"Shes\":\"She s\", \"SHES\":\"SHE S\",\n",
    "                    \"who's\":\"who 's\", \"Who's\":\"Who 's\", \"WHO'S\":\"WHO 'S\",\n",
    "                        \"whos\":\"who s\", \"Whos\":\"Who s\", \"WHOS\":\"WHO S\",\n",
    "                    \"how's\":\"how 's\", \"How's\":\"How 's\", \"HOW'S\":\"HOW 'S\",\n",
    "                        \"hows\":\"how s\", \"Hows\":\"How s\", \"HOWS\":\"HOW S\",\n",
    "                    \"that's\":\"that 's\", \"That's\":\"That 's\", \"THAT'S\":\"THAT 'S\",\n",
    "                        \"thats\":\"that s\", \"Thats\":\"That s\", \"THATS\":\"THAT S\",\n",
    "                    \"what's\":\"what 's\", \"What's\":\"What 's\", \"WHAT'S\":\"WHAT 'S\",\n",
    "                        \"whats\":\"what s\", \"Whats\":\"What s\", \"WHATS\":\"WHAT S\",\n",
    "                    \"where's\":\"where 's\", \"Where's\":\"Where 's\", \"WHERE'S\":\"WHERE 'S\",\n",
    "                        \"wheres\":\"where s\", \"Wheres\":\"Where s\", \"WHERES\":\"WHERE S\",\n",
    "                    \"there's\":\"there 's\", \"There's\":\"There 's\", \"THERE'S\":\"THERE 'S\",\n",
    "                        \"theres\":\"there s\", \"Theres\":\"There s\", \"THERES\":\"THERE S\",\n",
    "                    \"its\":\"it s\", \"Its\":\"It s\",\n",
    "\n",
    "                    # It / They\n",
    "                    \"its\":\"it s\", \"Its\":\"It s\", \"it's\":\"it 's\", \"It's\":\"It 's\", \n",
    "                        \"ITS\":\"IT S\",\"IT'S\":\"IT 'S\",\"i'z\":\"i 'z\",\n",
    "                    \"itll\":\"it ll\", \"Itll\":\"It ll\", \"it'll\":\"it 'll\", \"It'll\":\"It 'll\", \n",
    "                        \"ITLL\":\"IT LL\",\"IT'LL\":\"IT 'LL\",\n",
    "                    \"They'll\":\"They 'll\", \"THEY'LL\":\"THEY 'LL\", \"they'll\":\"they 'll\",\n",
    "                        \"Theyll\":\"They ll\", \"THEYLL\":\"THEY LL\", \"theyll\":\"they ll\",\n",
    "                    \"They'd\":\"They 'd\", \"THEY'D\":\"THEY 'D\", \"they'd\":\"they 'd\",\n",
    "                        \"Theyd\":\"They d\", \"THEYD\":\"THEY D\", \"theyd\":\"they d\",\n",
    "                    \"They're\":\"They 're\", \"THEY'RE\":\"THEY 'RE\", \"they're\":\"they 're\",\n",
    "                        \"Theyre\":\"They re\", \"THEYRE\":\"THEY RE\", \"theyre\":\"they re\",\n",
    "\n",
    "                    # Negations\n",
    "                    \"can't\":\"ca n't\", \"CAN'T\":\"CA N'T\", \"Can't\":\"Ca n't\", \n",
    "                        \"cant\":\"ca nt\", \"Cant\":\"Ca nt\", \"CANT\":\"CA NT\",\n",
    "                    \"won't\":\"wo n't\", \"WON'T\":\"WO N'T\", \"Won't\":\"Wo n't\",\n",
    "                        \"wont\":\"wo nt\", \"Wont\":\"Wo nt\", \"WONT\":\"WO NT\",\n",
    "                    \"don't\":\"do n't\", \"DON'T\":\"DO N'T\", \"Don't\":\"Do n't\",\n",
    "                        \"dont\":\"do nt\", \"Dont\":\"Do nt\", \"DONT\":\"DO NT\",\n",
    "                    \"didn't\":\"did n't\", \"DIDN'T\":\"DID N'T\", \"Didn't\":\"Did n't\",\n",
    "                        \"didnt\":\"did nt\", \"Didnt\":\"Did nt\", \"DIDNT\":\"DID NT\",\n",
    "                    \"wasn't\":\"was n't\", \"WASN'T\":\"WAS N'T\", \"Wasn't\":\"Was n't\",\n",
    "                        \"wasnt\":\"was nt\", \"Wasnt\":\"Was nt\", \"WASNT\":\"WAS NT\",\n",
    "                    \"doesn't\":\"does n't\", \"DOESN'T\":\"DOES N'T\", \"Doesn't\":\"Does n't\",\n",
    "                        \"doesnt\":\"does nt\", \"Doesnt\":\"Does nt\", \"DOESNT\":\"DOES NT\",\n",
    "                    \n",
    "                    # Writing out the meaning of the abbreviation / slang:\n",
    "                    \"Ima\":\"Ima I am going to\", \"ima\":\"ima I am going to\", \n",
    "                    \"Imma\":\"Imma I am going to\", \"imma\":\"imma I am going to\"\n",
    "                    }\n",
    "\n",
    "difficult_abbreviations = {\n",
    "    # For the extra check when first word is im / its \n",
    "    \"its\":\"it s\", \"Its\":\"It s\",\n",
    "    \"Im\":\"I m\", \"IM\":\"I M\", \"im\":\"i m\",\n",
    "    \"Ive\":\"I ve\", \"IVE\":\"I VE\", \"ive\":\"i ve\",\n",
    "    \"Id\":\"I d\", \"ID\":\"I D\", \"id\":\"i d\",\n",
    "    \"Iv\":\"I v\", \"IV\":\"I V\", \"iv\":\"i v\",\n",
    "    \"Ill\":\"I ll\", \"ILL\":\"I LL\", \"ill\":\"i ll\",\n",
    "}"
   ]
  },
  {
   "cell_type": "code",
   "execution_count": 139,
   "metadata": {},
   "outputs": [
    {
     "name": "stdout",
     "output_type": "stream",
     "text": [
      "['www.my_web.com/123']\n"
     ]
    }
   ],
   "source": [
    "# Additional improvements; \n",
    "### find more character emojis; ;o :S\n",
    "### find more regular abbreviations\n",
    "pattern = str('[Dd)(pP/]*-?[:;=]-?[Dd)(pP/]*|[\\u263a-\\U0001f645]|<3'+ #Emojis\n",
    "    '|http://[\\./\\w\\d]+|www\\.[\\w\\d]+\\.\\w+/?\\w*|[\\w\\d]+\\.com[/\\w]*'+ #Websites\n",
    "    '|\\d[a-z]+'+ #Words starting with a number\n",
    "    '|\\d+[/:-]\\d+/?\\d*|[$]?\\d+[.,]?\\d*[Tt]?[Hh]?'+ #Formatted Numbers\n",
    "    '|\\'em|\\'|w/' + # Starting Quote\n",
    "    '|[#@]*[\\w`\\'-]+'+ #Regular words + hashtags / user tags\n",
    "    '|\\.+|[?!,;:—\"&/*<>\\.]+|[«»)(@“”+%]'+ #Punctuation etc. \n",
    "    '|[^\\s]') # This is a Catch all!\n",
    "token = re.compile(pattern)\n",
    "\n",
    "my_tokens = []\n",
    "for i in range(train.shape[0]):\n",
    "    data = train.iloc[i]['Text']\n",
    "    tokens = token.findall(data)\n",
    "    for j, tok in enumerate(tokens):\n",
    "        if tok in abbreviation_dict:\n",
    "            tokens[j] = abbreviation_dict[tok]\n",
    "    if tokens[0] in difficult_abbreviations:\n",
    "        tokens[0] = difficult_abbreviations[tokens[0]]\n",
    "    my_tokens.append(\" \".join(tokens))\n",
    "\n",
    "train['My Tokens'] = my_tokens"
   ]
  },
  {
   "cell_type": "code",
   "execution_count": 140,
   "metadata": {},
   "outputs": [],
   "source": [
    "wrong = train[train['My Tokens'] != train['Expected']]\n",
    "wrong[['Id', 'Expected', 'My Tokens']].to_csv('tokenized_wrong.csv')"
   ]
  },
  {
   "cell_type": "code",
   "execution_count": 141,
   "metadata": {},
   "outputs": [
    {
     "data": {
      "text/plain": [
       "33"
      ]
     },
     "execution_count": 141,
     "metadata": {},
     "output_type": "execute_result"
    }
   ],
   "source": [
    "wrong.shape[0]"
   ]
  },
  {
   "cell_type": "code",
   "execution_count": 142,
   "metadata": {},
   "outputs": [],
   "source": [
    "preds = []\n",
    "for i in range(x_test.shape[0]):\n",
    "    data = x_test.iloc[i]['Text']\n",
    "    tokens = token.findall(data)\n",
    "    for j, tok in enumerate(tokens):\n",
    "        if tok in abbreviation_dict:\n",
    "            tokens[j] = abbreviation_dict[tok]\n",
    "    if tokens[0] in difficult_abbreviations:\n",
    "        tokens[0] = difficult_abbreviations[tokens[0]]\n",
    "    preds.append(\" \".join(tokens))\n",
    "\n",
    "x_test['Predicted'] = preds\n",
    "x_test[['Id', 'Predicted']].to_csv('test_preds.csv', index=False, quotechar='\"', quoting=csv.QUOTE_NONNUMERIC)"
   ]
  },
  {
   "cell_type": "markdown",
   "metadata": {},
   "source": [
    "# Lecture 2"
   ]
  },
  {
   "cell_type": "markdown",
   "metadata": {},
   "source": [
    "## 5. Linux Command Line for NLP: Conll Format\n",
    "In natural language processing, the \"conll\" format is a highly common standard to represent annotated text. There is a variety of conll formats, so it might be more correct to refer to them as conll-like formats. These formats have one word per line, separate sentences with an empty line, and have separate collumns (separated with tabs) for each annotation layer.\n",
    "\n",
    "In this assignment, we will use the conll format for named entity recognition (from conll2002: [paper](https://aclanthology.org/W02-2024.pdf)). We will use Danish data from (DaN+)[https://aclanthology.org/2020.coling-main.583.pdf]. This data follows the BIO labels as discussed in the lecture. An example of the data is shown below, this example has one entity-span \"goergh bush\":\n",
    "\n",
    "```\n",
    "-       O\n",
    "en      O\n",
    "mand    O\n",
    "der     O\n",
    "hedder  O\n",
    "goergh  B-PER\n",
    "bush    I-PER\n",
    ".       O\n",
    "\n",
    "```\n",
    "\n",
    "\n",
    "Use Unix command line tools for this assignment (grep, sed, etc.)\n",
    "\n",
    "* a) Search in the `da_arto.conll` file (in the assingment1 directory) for first names. You can assume that first names always have the label B-PER, and that the string \"B-PER\" does not occur in the first column. \n",
    "* b) How many names occur in the data?\n",
    "* c) How can we make sure that we do not match the string \"B-PER\" occuring in the first column?\n",
    "* d) How can we clean away the labels, so that we have only a list of names left? (hint: pipe the result of the previous command into a `split`)\n",
    "* e) How many of the names you found start with an uppercased character?\n",
    "\n",
    "\n"
   ]
  },
  {
   "attachments": {},
   "cell_type": "markdown",
   "metadata": {},
   "source": [
    "### A\n",
    "grep 'B-PER' da_arto.conll | cut -f 1\n",
    "\n",
    "### B (96!)\n",
    "grep 'B-PER' da_arto.conll | cut -f 1 | wc -w\n",
    "\n",
    "### C --- \n",
    "Get back to me :)\n",
    "Maybe i was supposed to do the cut only at this point in time?\n",
    "\n",
    "### D\n",
    "grep \"B-PER\" da_arto.conll | cut -f 1 | grep \"^[A-Z]\"\n",
    "\n",
    "### E (53!)\n",
    "grep \"B-PER\" da_arto.conll | cut -f 1 | grep \"^[A-Z]\" | wc -w"
   ]
  },
  {
   "cell_type": "markdown",
   "metadata": {},
   "source": [
    "## 6. More Advanced Usage of Unix Tools: Creating a word frequency list, finding function words\n",
    "Let us now create a simple word frequency list from the book above using Unix tools to answer the following question: Which four (function) words are the most frequent in *The Adventures of Sherlock Holmes* by Arthur Conan Doyle (`pg1661.txt`)?\n",
    "\n",
    "* The first step is to split the text into separate words. Here, we will use the command sed to replace all spaces with a newline:\n",
    "\n",
    "```\n",
    "sed 's/ /\\n/g' FILE\n",
    "```\n",
    "\n",
    "Note: Remember the flag `g`, which stands for global. It replaces all occurrences of a space on a line.\n",
    "\n",
    "* Hint: It is handy to forward this command to a tool called `less`, which lets you browse through the result (type `q` to quit).\n",
    "\n",
    "```\n",
    "sed 's/ /\\n/g' FILE | less\n",
    "```\n",
    "\n",
    "* Now we can sort the list of tokens and count unique words:\n",
    "\n",
    "```\n",
    "sed 's/ /\\n/g' FILE | sort | uniq -c\n",
    "```\n",
    "\n",
    "* To create the most frequent words first, sort again in reverse numeric order (find the options of `sort` to do so, e.g. check `man sort`).\n",
    "\n",
    "Note: Here we used `sed`, our textbook shows an alternative with `tr` instead."
   ]
  }
 ],
 "metadata": {
  "kernelspec": {
   "display_name": "Python 3",
   "language": "python",
   "name": "python3"
  },
  "language_info": {
   "codemirror_mode": {
    "name": "ipython",
    "version": 3
   },
   "file_extension": ".py",
   "mimetype": "text/x-python",
   "name": "python",
   "nbconvert_exporter": "python",
   "pygments_lexer": "ipython3",
   "version": "3.10.9"
  },
  "latex_envs": {
   "LaTeX_envs_menu_present": true,
   "autoclose": false,
   "autocomplete": true,
   "bibliofile": "biblio.bib",
   "cite_by": "apalike",
   "current_citInitial": 1,
   "eqLabelWithNumbers": true,
   "eqNumInitial": 1,
   "hotkeys": {
    "equation": "Ctrl-E",
    "itemize": "Ctrl-I"
   },
   "labels_anchors": false,
   "latex_user_defs": false,
   "report_style_numbering": false,
   "user_envs_cfg": false
  },
  "vscode": {
   "interpreter": {
    "hash": "059b92ebffe316512df3810dcdd9739bd5d694b60baa1e9e8136193b1cf34557"
   }
  }
 },
 "nbformat": 4,
 "nbformat_minor": 1
}
