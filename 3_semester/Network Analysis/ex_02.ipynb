{
 "cells": [
  {
   "cell_type": "code",
   "execution_count": 39,
   "metadata": {},
   "outputs": [],
   "source": [
    "import numpy as np\n",
    "import networkx as nx\n",
    "import random"
   ]
  },
  {
   "cell_type": "markdown",
   "metadata": {},
   "source": [
    "# Chapther 5\n",
    "\n",
    "## Exercise 5.1"
   ]
  },
  {
   "cell_type": "code",
   "execution_count": 20,
   "metadata": {},
   "outputs": [],
   "source": [
    "G = nx.read_edgelist('Data/ex_5_1.txt')"
   ]
  },
  {
   "cell_type": "code",
   "execution_count": 21,
   "metadata": {},
   "outputs": [
    {
     "data": {
      "text/plain": [
       "matrix([[0., 1., 1., ..., 0., 0., 0.],\n",
       "        [1., 0., 1., ..., 0., 0., 0.],\n",
       "        [1., 1., 0., ..., 0., 0., 0.],\n",
       "        ...,\n",
       "        [0., 0., 0., ..., 0., 0., 0.],\n",
       "        [0., 0., 0., ..., 0., 0., 0.],\n",
       "        [0., 0., 0., ..., 0., 0., 0.]])"
      ]
     },
     "execution_count": 21,
     "metadata": {},
     "output_type": "execute_result"
    }
   ],
   "source": [
    "Adj_mx = nx.to_numpy_matrix(G)\n",
    "Adj_mx"
   ]
  },
  {
   "cell_type": "code",
   "execution_count": 22,
   "metadata": {},
   "outputs": [
    {
     "data": {
      "text/plain": [
       "matrix([[0.        , 0.03333333, 0.03333333, ..., 0.        , 0.        ,\n",
       "         0.        ],\n",
       "        [0.04347826, 0.        , 0.04347826, ..., 0.        , 0.        ,\n",
       "         0.        ],\n",
       "        [0.02631579, 0.02631579, 0.        , ..., 0.        , 0.        ,\n",
       "         0.        ],\n",
       "        ...,\n",
       "        [0.        , 0.        , 0.        , ..., 0.        , 0.        ,\n",
       "         0.        ],\n",
       "        [0.        , 0.        , 0.        , ..., 0.        , 0.        ,\n",
       "         0.        ],\n",
       "        [0.        , 0.        , 0.        , ..., 0.        , 0.        ,\n",
       "         0.        ]])"
      ]
     },
     "execution_count": 22,
     "metadata": {},
     "output_type": "execute_result"
    }
   ],
   "source": [
    "Adj_mx_stoc = Adj_mx / Adj_mx.sum(axis=1)\n",
    "Adj_mx_stoc"
   ]
  },
  {
   "cell_type": "code",
   "execution_count": 10,
   "metadata": {},
   "outputs": [
    {
     "data": {
      "text/plain": [
       "matrix([[30, -1, -1, ...,  0,  0,  0],\n",
       "        [-1, 23, -1, ...,  0,  0,  0],\n",
       "        [-1, -1, 38, ...,  0,  0,  0],\n",
       "        ...,\n",
       "        [ 0,  0,  0, ...,  1,  0,  0],\n",
       "        [ 0,  0,  0, ...,  0,  1,  0],\n",
       "        [ 0,  0,  0, ...,  0,  0,  1]], dtype=int32)"
      ]
     },
     "execution_count": 10,
     "metadata": {},
     "output_type": "execute_result"
    }
   ],
   "source": [
    "lapl_mx = nx.laplacian_matrix(G);\n",
    "lapl_mx.todense()"
   ]
  },
  {
   "cell_type": "markdown",
   "metadata": {},
   "source": [
    "## Exercise 5.2"
   ]
  },
  {
   "cell_type": "code",
   "execution_count": 23,
   "metadata": {},
   "outputs": [],
   "source": [
    "G2 = nx.read_edgelist(\"Data/ex_5_2.txt\", data = [(\"weight\", float),])"
   ]
  },
  {
   "cell_type": "code",
   "execution_count": 24,
   "metadata": {},
   "outputs": [],
   "source": [
    "nodes = nx.algorithms.bipartite.basic.sets(G2)"
   ]
  },
  {
   "cell_type": "code",
   "execution_count": 32,
   "metadata": {},
   "outputs": [
    {
     "name": "stderr",
     "output_type": "stream",
     "text": [
      "C:\\Users\\jonas\\AppData\\Local\\Temp\\ipykernel_1108\\68375347.py:1: FutureWarning: biadjacency_matrix will return a scipy.sparse array instead of a matrix in NetworkX 3.0\n",
      "  adjmat = nx.algorithms.bipartite.matrix.biadjacency_matrix(G2, nodes[0]);\n"
     ]
    }
   ],
   "source": [
    "adjmat = nx.algorithms.bipartite.matrix.biadjacency_matrix(G2, nodes[0]);"
   ]
  },
  {
   "cell_type": "code",
   "execution_count": 33,
   "metadata": {},
   "outputs": [],
   "source": [
    "# Project along axis of length 248 (asked in exercise formulation)\n",
    "## Then it becomes a matrix representation of connection between the 248 nodes through 1 link \n",
    "## (i.e. paths of length 2 through the other set of the bipartite!)\n",
    "if adjmat.shape[0] == 248:\n",
    "   adjmat_proj = adjmat.dot(adjmat.T)\n",
    "else:\n",
    "   adjmat_proj = adjmat.T.dot(adjmat)"
   ]
  },
  {
   "cell_type": "code",
   "execution_count": 34,
   "metadata": {},
   "outputs": [
    {
     "name": "stdout",
     "output_type": "stream",
     "text": [
      "[[1.04934942e-02 2.25140841e-03 0.00000000e+00 ... 6.25391226e-03\n",
      "  2.75172139e-04 0.00000000e+00]\n",
      " [3.19952699e-03 4.11167285e-02 0.00000000e+00 ... 2.80660263e-03\n",
      "  1.23490516e-04 0.00000000e+00]\n",
      " [0.00000000e+00 0.00000000e+00 9.99874902e-01 ... 0.00000000e+00\n",
      "  0.00000000e+00 0.00000000e+00]\n",
      " ...\n",
      " [6.84282401e-03 2.16089179e-03 0.00000000e+00 ... 4.44052939e-02\n",
      "  2.64108997e-04 0.00000000e+00]\n",
      " [3.35026992e-03 1.05797997e-03 0.00000000e+00 ... 2.93883326e-03\n",
      "  2.67295969e-01 0.00000000e+00]\n",
      " [0.00000000e+00 0.00000000e+00 0.00000000e+00 ... 0.00000000e+00\n",
      "  0.00000000e+00 4.93144388e-01]]\n"
     ]
    }
   ],
   "source": [
    "# Make stocastic\n",
    "adjmat_proj_stoc = adjmat_proj / adjmat_proj.sum(axis = 1)\n",
    "print(adjmat_proj_stoc)"
   ]
  },
  {
   "cell_type": "markdown",
   "metadata": {},
   "source": [
    "### Exercise 5.3\n",
    "\n",
    "Continuation of 5.2"
   ]
  },
  {
   "cell_type": "code",
   "execution_count": 35,
   "metadata": {},
   "outputs": [],
   "source": [
    "# Eigenvalues and Eigenvectors. Right eigenvectors first.\n",
    "values, vectors_r = np.linalg.eig(adjmat_proj_stoc)"
   ]
  },
  {
   "cell_type": "code",
   "execution_count": 36,
   "metadata": {},
   "outputs": [],
   "source": [
    "# We need to sort the eigenvalues and eigenvectors, since numpy returns them in random order\n",
    "sorted_index = values.argsort()[::-1]\n",
    "values = np.real(values[sorted_index])\n",
    "vectors_r = np.real(vectors_r[:,sorted_index])"
   ]
  },
  {
   "cell_type": "code",
   "execution_count": 37,
   "metadata": {},
   "outputs": [],
   "source": [
    "# Now left eigenvectors.\n",
    "values, vectors_l = np.linalg.eig(adjmat_proj_stoc.T)\n",
    "sorted_index = values.argsort()[::-1]\n",
    "values = np.real(values[sorted_index])\n",
    "vectors_l = np.real(vectors_l[:,sorted_index])"
   ]
  },
  {
   "cell_type": "markdown",
   "metadata": {},
   "source": [
    "# Chapther 7\n",
    "\n",
    "## Exercise 7.1"
   ]
  },
  {
   "cell_type": "code",
   "execution_count": 38,
   "metadata": {},
   "outputs": [],
   "source": [
    "G3 = nx.read_edgelist('Data/ex_7_1.txt')"
   ]
  },
  {
   "cell_type": "code",
   "execution_count": 54,
   "metadata": {},
   "outputs": [],
   "source": [
    "# Arbitrary choice of starting node\n",
    "start = random.choice(list(G3.nodes))"
   ]
  },
  {
   "cell_type": "code",
   "execution_count": 55,
   "metadata": {},
   "outputs": [],
   "source": [
    "# Arbitrary choice of length\n",
    "length = random.choice(range(20))"
   ]
  },
  {
   "cell_type": "code",
   "execution_count": 56,
   "metadata": {},
   "outputs": [],
   "source": [
    "# Walk!\n",
    "walk = [start,]\n",
    "current = start\n",
    "for _ in range(length):\n",
    "    current = random.choice(list(G3.neighbors(current)))\n",
    "    walk.append(current)"
   ]
  },
  {
   "cell_type": "code",
   "execution_count": 57,
   "metadata": {},
   "outputs": [
    {
     "name": "stdout",
     "output_type": "stream",
     "text": [
      "['20505', '2698', '20724', '2698', '32268', '2698', '19498', '2698', '40']\n"
     ]
    }
   ],
   "source": [
    "print(walk)"
   ]
  },
  {
   "cell_type": "code",
   "execution_count": null,
   "metadata": {},
   "outputs": [],
   "source": []
  }
 ],
 "metadata": {
  "kernelspec": {
   "display_name": "Python 3.10.6 64-bit (windows store)",
   "language": "python",
   "name": "python3"
  },
  "language_info": {
   "codemirror_mode": {
    "name": "ipython",
    "version": 3
   },
   "file_extension": ".py",
   "mimetype": "text/x-python",
   "name": "python",
   "nbconvert_exporter": "python",
   "pygments_lexer": "ipython3",
   "version": "3.10.7"
  },
  "orig_nbformat": 4,
  "vscode": {
   "interpreter": {
    "hash": "059b92ebffe316512df3810dcdd9739bd5d694b60baa1e9e8136193b1cf34557"
   }
  }
 },
 "nbformat": 4,
 "nbformat_minor": 2
}
