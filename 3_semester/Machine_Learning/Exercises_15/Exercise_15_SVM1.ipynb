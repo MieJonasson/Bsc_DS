{
 "cells": [
  {
   "cell_type": "markdown",
   "id": "40233bd4",
   "metadata": {},
   "source": [
    "<h1 style=\"font-size:40px;\"><center>Support Vector Machines (SVM)\n",
    "   <br>\n",
    "</center></h1>"
   ]
  },
  {
   "cell_type": "markdown",
   "id": "ccfa34e1",
   "metadata": {},
   "source": [
    "# Support Vector Machines (SVM)\n",
    "\n",
    "# Summary\n",
    "\n",
    "These ecxercises aim a deeper understanding of how a hard-margin support vector machine works. The first two exercises are conceptual and can be done by hand. The last exercise is a coding exercise and has several steps that you take to implement a hard-margin SVM from scratch (mostly)."
   ]
  },
  {
   "cell_type": "markdown",
   "id": "02263903",
   "metadata": {},
   "source": [
    "# Exercise 1\n",
    "This exercise is about hyperplanes in two dimensions. Imagine we have a 2-dimensional feature space with features X1 and X2.\n",
    "- Sketch the hyperplane $1 + 3X1 − X2 = 0$. Indicate the set of points for which $1 + 3X1 − X2 > 0$, as well as the set of points for which $1 + 3X1 − X2 < 0$.\n",
    "\n",
    "- On the same plot, sketch the hyperplane $−2 + X1 + 2X2 = 0$. Indicate the set of points for which $−2 + X1 + 2X2 > 0$, as well as the set of points for which $−2 + X1 + 2X2 < 0$."
   ]
  },
  {
   "cell_type": "markdown",
   "id": "60adb8f6",
   "metadata": {},
   "source": [
    "# Exercise 2\n",
    "Here we explore hard-margin SVM (maximal margin classifier) on a toy data.\n",
    "We are given $n = 7$ observations in $p = 2$ dimensions. For each observation, there is an associated class label.\n",
    "\n",
    "| Obs. | $X_1$ | $X_2$ | $Y$ \n",
    "| :- | :- | :- | :- \n",
    "| 1 | 3 | 4 | Red \n",
    "| 2 | 2 | 2 | Red  \n",
    "| 3 | 4 | 4 | Red  \n",
    "| 4 | 1 | 4 | Red \n",
    "| 5 | 2 | 1 | Blue  \n",
    "| 6 | 4 | 3 | Blue \n",
    "| 7 | 4 | 1 | Blue  \n",
    "\n",
    "- Sketch the observations\n",
    "\n",
    "- Sketch a separating hyperplane. \n",
    "\n",
    "- Sketch the optimal separating hyperplane, and provide the equation for this hyperplane.\n",
    "\n",
    "- Describe the classification rule, something along the lines of \"Classify to Red if $\\beta_0 +\\beta_1 X1 +\\beta_2 X2 > 0$, and classify to Blue otherwise\". \n",
    "\n",
    "- On your sketch, indicate the margin for the maximal margin hyperplane.\n",
    "\n",
    "- Indicate the support vectors for your classifier.\n",
    "\n",
    "- Argue that a slight movement of the seventh observation would not affect the maximal margin hyperplane.\n",
    "\n",
    "- Sketch a hyperplane that is not the optimal separating hyperplane, and provide the equation for this hyperplane.\n",
    "\n",
    "- Draw an additional observation on the plot so that the two classes are no longer separable by a hyperplane.\n"
   ]
  },
  {
   "cell_type": "markdown",
   "id": "8f557ffc",
   "metadata": {},
   "source": [
    "# Exercise 3\n",
    "\n",
    "## Hard-margin SVM\n",
    "\n",
    "In the lecture we talked about the objective function for the hard-margin SVM:\n",
    "\n",
    "$$\\underset{\\mathrm w, b} {\\arg\\min} \\frac{1}{2} \\lVert  \\mathrm w \\rVert^2$$\n",
    "\n",
    "$$\\text{subject to  } y(\\mathrm{w \\cdot x + b}) -1 \\ge 0 $$\n",
    "\n",
    "a) In your group, discuss what this objective function means and how it is driven.\n",
    "\n",
    "b) What is the assumption about the data in hard-margin SVM?"
   ]
  },
  {
   "cell_type": "markdown",
   "id": "06cbbd86",
   "metadata": {},
   "source": [
    "c) Do you think SVM is sensitive to scales of the different features (do we need to rescale our data)? Disucss the answer in your group."
   ]
  },
  {
   "cell_type": "markdown",
   "id": "23e53217",
   "metadata": {},
   "source": [
    "## Implementing hard-margin SVM\n",
    "\n",
    "Normally, one uses available implementations of SVM from various libraries. \n",
    "But here we try to implement it ourselves, to get a deeper understanding of how it works.\n",
    "\n",
    "The goal is to implement hard-margin SVM. \n",
    "\n",
    "We start by importing the necessary libraries."
   ]
  },
  {
   "cell_type": "code",
   "execution_count": 78,
   "id": "9eb5a626",
   "metadata": {},
   "outputs": [],
   "source": [
    "import numpy as np\n",
    "import matplotlib.pyplot as plt\n",
    "import matplotlib as mpl\n",
    "\n",
    "from scipy.optimize import minimize"
   ]
  },
  {
   "cell_type": "markdown",
   "id": "f658f2db",
   "metadata": {},
   "source": [
    "Then we generate our random dataset; this will be some 2D data that is linearly separable."
   ]
  },
  {
   "cell_type": "code",
   "execution_count": 105,
   "id": "a115abae",
   "metadata": {},
   "outputs": [
    {
     "data": {
      "image/png": "[encoded data removed]",
      "text/plain": [
       "<Figure size 432x288 with 1 Axes>"
      ]
     },
     "metadata": {
      "needs_background": "light"
     },
     "output_type": "display_data"
    }
   ],
   "source": [
    "# to make things repeatable\n",
    "np.random.seed(1)\n",
    "\n",
    "N = 20\n",
    "X = np.array(list(zip(np.random.normal(size=N), np.random.normal(size=N))))  # standard Gaussian samples in R^2\n",
    "c0 = np.where(X[:,0] < 0)  # indices of points (x,y) for which XOR(x,y) is true, i.e. (x<0&y>0)|(x>0&y<0)\n",
    "c1 = np.where(X[:,0] > 0)  # indices of data points belonging to the other class\n",
    "y = np.ones(N)  # labels\n",
    "y[c1] = -1  # negative class labels\n",
    "X[c1,0] = X[c1,0] + 0.1  # make a little gap between the two groups \n",
    "\n",
    "\n",
    "# Rotation\n",
    "theta = np.radians(45)\n",
    "c, s = np.cos(theta), np.sin(theta)\n",
    "R = np.array([[c,-s],[s,c]]) # rotation matrix\n",
    "X =  X @ R\n",
    "\n",
    "# plots\n",
    "# plot training data points\n",
    "for cls, clr in zip((c0, c1), ('r', 'b')):\n",
    "    plt.scatter(X[cls, 0], X[cls, 1], color=clr)\n"
   ]
  },
  {
   "cell_type": "markdown",
   "id": "772df720",
   "metadata": {},
   "source": [
    "\n",
    "\n",
    "Next we set up the SVM model. \n",
    "\n",
    "In the course, we learned to rewrite the hard-margin SVM objective function as its dual representation (using Lagrangian multipliers), and maximize it.\n",
    "\n",
    "$$\\arg\\max_{\\alpha} \\tilde{L}(\\alpha), \\quad\\quad \\tilde{L}(\\alpha) = \\sum_i^n \\alpha_i - \\frac{1}{2} \\sum_i^n \\sum_j^n \\alpha_i \\alpha_j y_i y_j (\\mathbf{x_i} \\cdot \\mathbf{x_j})$$\n",
    "$$\\text{subject to }\\quad \\alpha \\geq 0 \\quad{} \\text{and} \\quad{} \\sum_i^n \\alpha_i y_i = 0$$\n"
   ]
  },
  {
   "cell_type": "markdown",
   "id": "d2e8501d",
   "metadata": {},
   "source": [
    "however, for coding that, it is easier to work with matrices. \n",
    "\n",
    "Therefore, we define the matrix $\\mathbf{A} = \\pmb{\\alpha}^\\intercal \\pmb{\\alpha} \\circ \\mathbf{y} \\mathbf{y}^\\intercal \\circ K$, \n",
    " - $K$ is an $N \\times N$ matrix resulted from the dot product between every two data point $\\mathbf{x}$, that is $K_{i,j}=\\mathbf{x_i}.\\mathbf{x_j}$\n",
    "\n",
    " - $\\pmb{\\alpha}$ is a $1\\times N$ matrix in this equation, so $\\pmb{\\alpha}^\\intercal \\pmb{\\alpha}$ is an $N \\times N$-matrix\n",
    "\n",
    " - $\\mathbf{y}$ is a $N \\times 1$ matrix in this equation, so $\\mathbf{y} \\mathbf{y}^\\intercal$ is an $N \\times N$-matrix\n",
    "\n",
    " - The notation $\\circ$ in the equation stands for the element-wise product (Hadamard product). \n",
    "\n",
    "\n",
    "We can sum up all the elements of $\\mathbf{A}$ to get the double-sum for $\\tilde{L}(\\alpha)$, as \n",
    "\n",
    "$$\n",
    "\\tilde{L}(\\alpha) = \\sum_{i} \\alpha_i - \\frac{1}{2} \\sum_{i,j} A_{i,j}, \\quad\n",
    "\\text{where $A_{i,j}$ is the value at the $i$th row and $j$th column of $\\mathbf{A}$.}\n",
    "$$\n",
    "\n",
    "Eventualy, we need to maximze the $\\tilde{L}(\\alpha)$ with respect to $\\alpha$ and then use the solutions of $\\alpha$ for prediction. \n",
    "\n",
    "We will do that in separates steps below."
   ]
  },
  {
   "cell_type": "markdown",
   "id": "a65c6fd9",
   "metadata": {},
   "source": [
    "\n",
    "### Let's first compute the matrix $K$\n",
    "### *(a) implement the matrix computation*\n",
    "complete the code for the function \"gram\" below that computes the matrix $K$.\n",
    "As inputs, the function gets a data matrix $X$ and a kernel function k (in the code below it is implemented as linear_kernel)."
   ]
  },
  {
   "cell_type": "code",
   "execution_count": 80,
   "id": "3bead4ac",
   "metadata": {},
   "outputs": [],
   "source": [
    "def linear_kernel(x,y):\n",
    "    return x @ y\n",
    "\n",
    "def gram(X, k):\n",
    "    \"\"\"compute the Gram matrix, given a data matrix X and kernel k; N^2 time complexity\"\"\"\n",
    "    # Your code here\n",
    "    \n",
    "\n",
    "    return K\n",
    "\n",
    "kernel = lambda x, y: linear_kernel(x,y)\n",
    "K = gram(X, kernel)\n"
   ]
  },
  {
   "cell_type": "markdown",
   "id": "df5c6a23",
   "metadata": {},
   "source": [
    "### Optimising the Quadratic Program (QP) - $\\tilde{L}(\\alpha)$\n",
    "The equation for $\\tilde{L}(\\alpha)$ and its constraints represent a QP\n",
    "and therefore we can optimize it by a QP solver, in scipy library.\n",
    "The library has a function ***optimize.minimize(...)***  (there is no optimize.maximize). \n",
    "\n",
    "Therefore we have to negate the $\\tilde{L}(\\alpha)$ and minimize it.\n",
    "$$\\arg\\min_{\\alpha} -(\\sum_{i} \\alpha_i - \\frac{1}{2} \\sum_{i,j} A_{i,j})$$\n",
    "$$\\text{s.t.}\\quad \\alpha \\geq 0 \\quad{} \\text{and} \\quad{} \\sum_i^n \\alpha_i y_i = 0$$\n"
   ]
  },
  {
   "cell_type": "markdown",
   "id": "cb89fc58",
   "metadata": {},
   "source": [
    "### *(b) implement the loss function* \n",
    "Now we want to implement $\\tilde{L}(\\alpha)$ as a function called loss.\n",
    "Complete the code. \n",
    "\n",
    "*Note: In python you can use $*$ for Hadamard product (element-wise product)* \n"
   ]
  },
  {
   "cell_type": "code",
   "execution_count": 81,
   "id": "a77784d5",
   "metadata": {},
   "outputs": [],
   "source": [
    "def loss(a): \n",
    "    \"\"\"Evaluate the negative of the dual function at `a`.\n",
    "    We access the optimization data (Gram matrix K and target vector y) from outer scope for convenience.\n",
    "    :param a: dual variables (alpha)\n",
    "    \"\"\"\n",
    "    a = a.reshape(1,-1)   # We reshape a as we assumed it as a 1 x N matrix in the equations above\n",
    "    yv = y.reshape(-1,1)  # We reshape y as we assumed it as a N x 1 matrix in the equations above\n",
    "    \n",
    "    return # your code here\n"
   ]
  },
  {
   "cell_type": "markdown",
   "id": "4e090f7c",
   "metadata": {},
   "source": [
    "To use the QP solver ***optimizer.minimize(..)*** function, we need to pass several items to it. Some of them are:\n",
    "* a loss function to it.\n",
    "* the Jacobian matrix of the loss function (Jacobian matrix is the partial derivatives of the loss function with respect to each element of $\\pmb{\\alpha}$).\n",
    "* constraints: the inequalities, their jacobian, the equalities, their jacobian"
   ]
  },
  {
   "cell_type": "code",
   "execution_count": 82,
   "id": "a8d898d4",
   "metadata": {},
   "outputs": [],
   "source": [
    "def jac(a):\n",
    "    \"\"\"Calculate the Jacobian of the loss function (for the QP solver)\"\"\"\n",
    "    a = a.reshape(1,-1)\n",
    "    yv = y.reshape(-1,1)\n",
    "    j = - np.ones_like(a) + a @ ((yv @ yv.T) * K)\n",
    "    return j.flatten()\n",
    "\n",
    "# write the constraints in matrix notation: inequalities should be formulated as f >= 0 , equalities as f = 0\n",
    "# We have one equality constraint: a @ y.T = 0\n",
    "# We have N inequalities (one for each a_i), therefore: A @ a >= 0,   \n",
    "A = np.eye(N)   \n",
    "\n",
    "constraints = ({'type': 'ineq', 'fun': lambda a: A @ a, 'jac': lambda a: A},\n",
    "               {'type': 'eq', 'fun': lambda a: a @ y.T, 'jac': lambda a: y.T})"
   ]
  },
  {
   "cell_type": "markdown",
   "id": "68735475",
   "metadata": {},
   "source": [
    "To complete the optimization, we also need to pass initial guess for $\\alpha$ and the QP optimization method (here we use SLSQP method), as"
   ]
  },
  {
   "cell_type": "code",
   "execution_count": null,
   "id": "c346a779",
   "metadata": {},
   "outputs": [],
   "source": [
    "# training\n",
    "a0 = np.random.rand(N)  # initial guess\n",
    "print('Initial loss: ' + str(loss(a0)))\n",
    "\n",
    "res = minimize(loss, a0, jac=jac, constraints=constraints, method='SLSQP', options={})\n",
    "\n",
    "print('Optimized loss: ' + str(res.fun))\n",
    "\n",
    "a = res.x  # optimal Lagrange multipliers\n",
    "a[np.isclose(a, 0)] = 0  # zero out value that are nearly zeros"
   ]
  },
  {
   "cell_type": "markdown",
   "id": "ab7b1de8",
   "metadata": {},
   "source": [
    "### Prediction \n",
    "Now that we trained the model and have the $\\pmb{\\alpha}$, we can use it to predict (classify) data points.\n",
    "\n",
    "$$ h(x) = \\sum_i^n \\alpha_i y_i( x_i \\cdot x )+ b $$\n",
    "\n",
    "$$ b = \\frac{1}{N_S}\\sum_{i \\in S}(y_i - \\sum_{j \\in S} \\alpha_jy_j(x_i.x_j)), \\quad \\text{where $S$ is the set of support vectors}$$\n",
    "\n",
    "### *(c) Which data points are the support vectors?* \n",
    "As we can see above, only the support vectors contribute to prediction. \n",
    "Which data points are the support vectors?\n",
    "Complete the code to assign the index of support vectors to variable *support_idx*\n",
    "\n",
    "Then use *support_idx* and the equation above to compute b"
   ]
  },
  {
   "cell_type": "code",
   "execution_count": null,
   "id": "1192e81a",
   "metadata": {},
   "outputs": [],
   "source": [
    "# find the intercept term, b\n",
    "support_idx = np.where(a > 0)[0] \n",
    "print('Total %d data points, %d support vectors' % (N, len(support_idx)))\n",
    "X_sv = X[support_idx]\n",
    "y_sv = y[support_idx]\n",
    "a_sv = a[support_idx]\n",
    "\n",
    "def compute_b(X,y,a,k):\n",
    "    # your code here\n",
    "\n",
    "b = compute_b(X_sv,y_sv,a_sv,kernel)\n",
    "b"
   ]
  },
  {
   "cell_type": "markdown",
   "id": "43a3e725",
   "metadata": {},
   "source": [
    "### *(d) implement the prediction* \n",
    "Now use the equation above for $h(x)$, to implement the prediction function below. \n",
    "Remember that we only need to pass the support vectors data to the prediction function."
   ]
  },
  {
   "cell_type": "code",
   "execution_count": 107,
   "id": "9929ec79",
   "metadata": {},
   "outputs": [],
   "source": [
    "def predict(test, X, y, a, b, k):\n",
    "    \"\"\"Form predictions on a test set.\n",
    "    :param test: matrix of data to classify\n",
    "    :param X: matrix of support vector features\n",
    "    :param y: vector of support vectors labels\n",
    "    :param a: optimal dual variables (alpha) for support vectors\n",
    "    :param b: optimal intercept, b\n",
    "    :param k: kernel function\n",
    "    \"\"\"\n",
    "    # your code here\n",
    "\n",
    "predictions = predict(X, X_sv, y_sv, a_sv, b, kernel)\n"
   ]
  },
  {
   "cell_type": "markdown",
   "id": "c888ea60",
   "metadata": {},
   "source": [
    "### Finaly, lets plot the results!\n"
   ]
  },
  {
   "cell_type": "code",
   "execution_count": null,
   "id": "34cbce16",
   "metadata": {},
   "outputs": [],
   "source": [
    "# plot training data points\n",
    "for cls, clr in zip((c0, c1), ('r', 'b')):\n",
    "    plt.scatter(X[cls, 0], X[cls, 1], color=clr)\n",
    "# add circles around support vectors\n",
    "plt.scatter(X_sv[:, 0], X_sv[:, 1], color='g', s=100, facecolors='none', edgecolors='g',\n",
    "            label='support vectors')\n",
    "\n",
    "# plot the decision boundary and margins in the input space\n",
    "grid = np.arange(X.min(), X.max(), 0.05)\n",
    "xx, yy = np.meshgrid(grid, grid)\n",
    "zs = predict(np.array(list(zip(np.ravel(xx), np.ravel(yy)))), X, y, a, b, kernel)\n",
    "zz = zs.reshape(xx.shape)\n",
    "CS = plt.contour(xx, yy, zz, levels=[-1, 0, 1], )  # margin, separating hyperplane, margin\n",
    "plt.clabel(CS, fmt='%2.1d', colors='k')\n",
    "plt.xlabel(\"$x_1$\")\n",
    "plt.ylabel(\"$x_2$\")\n",
    "plt.legend(loc='best')\n",
    "plt.title(\"SVM Classification of Data\")"
   ]
  }
 ],
 "metadata": {
  "kernelspec": {
   "display_name": "Python 3",
   "language": "python",
   "name": "python3"
  },
  "language_info": {
   "codemirror_mode": {
    "name": "ipython",
    "version": 3
   },
   "file_extension": ".py",
   "mimetype": "text/x-python",
   "name": "python",
   "nbconvert_exporter": "python",
   "pygments_lexer": "ipython3",
   "version": "3.8.2"
  }
 },
 "nbformat": 4,
 "nbformat_minor": 5
}
