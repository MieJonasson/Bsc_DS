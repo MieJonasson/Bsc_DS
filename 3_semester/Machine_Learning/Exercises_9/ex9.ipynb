{
 "cells": [
  {
   "cell_type": "markdown",
   "metadata": {},
   "source": [
    "## Exercise 1\n",
    "Variance is the same for all classes - thus variances cancel each other out when finding decision boundaries - i.e. they become linear"
   ]
  },
  {
   "cell_type": "markdown",
   "metadata": {},
   "source": [
    "## Exercise 2\n",
    "### a) sketching figure 1"
   ]
  },
  {
   "cell_type": "code",
   "execution_count": 48,
   "metadata": {},
   "outputs": [],
   "source": [
    "import numpy as np\n",
    "\n",
    "from scipy.stats import norm\n",
    "from scipy.optimize import fsolve\n",
    "\n",
    "from matplotlib import pyplot as plt\n",
    "\n",
    "from sklearn.model_selection import train_test_split\n",
    "from sklearn.discriminant_analysis import LinearDiscriminantAnalysis, QuadraticDiscriminantAnalysis\n",
    "from sklearn.metrics import accuracy_score, confusion_matrix"
   ]
  },
  {
   "cell_type": "code",
   "execution_count": 4,
   "metadata": {},
   "outputs": [
    {
     "data": {
      "image/png": "[encoded data removed]",
      "text/plain": [
       "<Figure size 432x288 with 1 Axes>"
      ]
     },
     "metadata": {
      "needs_background": "light"
     },
     "output_type": "display_data"
    }
   ],
   "source": [
    "# Classes\n",
    "classes = ['Black','Red','Blue']\n",
    "mus = [2,4,7]\n",
    "sigma = [1,1,1]\n",
    "\n",
    "# Class conditionals\n",
    "cc0 = lambda x: norm.pdf(x,mus[0],sigma[0])\n",
    "cc1 = lambda x: norm.pdf(x,mus[1],sigma[1])\n",
    "cc2 = lambda x: norm.pdf(x,mus[2],sigma[2])\n",
    "\n",
    "# Class priors\n",
    "priors = [.6,.1,.3]\n",
    "p0, p1, p2 = priors\n",
    "\n",
    "# Joint distribution\n",
    "j0 = lambda x: cc0(x) * p0\n",
    "j1 = lambda x: cc1(x) * p1\n",
    "j2 = lambda x: cc2(x) * p2\n",
    "\n",
    "# plot\n",
    "xs = np.linspace(-2,10,1000)\n",
    "fig, ax = plt.subplots()\n",
    "ax.plot(xs, j0(xs), c=classes[0], label=f'P(X,Y={classes[0]})')\n",
    "ax.plot(xs, j1(xs), c=classes[1], label=f'P(X,Y={classes[1]})')\n",
    "ax.plot(xs, j2(xs), c=classes[2], label=f'P(X,Y={classes[2]})');"
   ]
  },
  {
   "cell_type": "markdown",
   "metadata": {},
   "source": [
    "Decision Regions are the intervals where a class has the highest probability. \n",
    "\n",
    "Highest y-value (joint distribution) in a point $x_i$ gives the class"
   ]
  },
  {
   "cell_type": "code",
   "execution_count": null,
   "metadata": {},
   "outputs": [],
   "source": [
    "# Approximate decision regions;\n",
    "# ]-infty : 4] -> Black\n",
    "# ]4 : 5] -> Red\n",
    "# ]5 : \\infty[ -> Blue"
   ]
  },
  {
   "cell_type": "markdown",
   "metadata": {},
   "source": [
    "### b) misclassification errors\n",
    "1. Classify to black when it is red\n",
    "2. Classify to blue when it is red\n",
    "3. Classify to red when it is black\n",
    "4. Classify to red when it is blue\n",
    "5. Classify to black when it is blue\n",
    "6. Classify to blue when it is black\n",
    "\n",
    "### c) probs of errors\n",
    "For each decision region, we integrate the probabilities of classes that are NOT chosen within the decision region boundaries. This gives us an error for a specific misclassification error. I.e. point 1 from b would be integral of read curve with boundaries ]-$\\infty$ : 4]"
   ]
  },
  {
   "cell_type": "markdown",
   "metadata": {},
   "source": [
    "### d) Decision boundaries"
   ]
  },
  {
   "cell_type": "code",
   "execution_count": 10,
   "metadata": {},
   "outputs": [],
   "source": [
    "# For two functions f and g, return x where f(x)=g(x)\n",
    "intersection = lambda f, g: fsolve(lambda x: f(x)-g(x), 0.0)\n",
    "discriminant = lambda mu_k, pi_k, sigma: lambda x: (mu_k * x / (sigma ** 2)) - (mu_k**2 / (2*(sigma**2))) + np.log(pi_k)"
   ]
  },
  {
   "cell_type": "code",
   "execution_count": 13,
   "metadata": {},
   "outputs": [
    {
     "data": {
      "image/png": "[encoded data removed]",
      "text/plain": [
       "<Figure size 432x288 with 1 Axes>"
      ]
     },
     "metadata": {
      "needs_background": "light"
     },
     "output_type": "display_data"
    }
   ],
   "source": [
    "# discriminants\n",
    "d0 = discriminant(mus[0],priors[0],sigma[0])\n",
    "d1 = discriminant(mus[1],priors[1],sigma[1])\n",
    "d2 = discriminant(mus[2],priors[2],sigma[2])\n",
    "\n",
    "# plot\n",
    "xs = np.linspace(-2,10,1000)\n",
    "fig, ax = plt.subplots()\n",
    "ax.plot(xs, d0(xs), c=classes[0], label=f'P(X,Y={classes[0]})')\n",
    "ax.plot(xs, d1(xs), c=classes[1], label=f'P(X,Y={classes[1]})')\n",
    "ax.plot(xs, d2(xs), c=classes[2], label=f'P(X,Y={classes[2]})');"
   ]
  },
  {
   "cell_type": "code",
   "execution_count": 15,
   "metadata": {},
   "outputs": [
    {
     "name": "stdout",
     "output_type": "stream",
     "text": [
      "3.8958797346140273 5.1337959037772976\n"
     ]
    }
   ],
   "source": [
    "# compute decision boundaries\n",
    "b0 = intersection(d0,d1)[0]\n",
    "b1 = intersection(d1,d2)[0]\n",
    "print(b0,b1)"
   ]
  },
  {
   "cell_type": "markdown",
   "metadata": {},
   "source": [
    "### e) Probabilities of misclassification errors"
   ]
  },
  {
   "cell_type": "code",
   "execution_count": 24,
   "metadata": {},
   "outputs": [
    {
     "name": "stdout",
     "output_type": "stream",
     "text": [
      "Predict Black:\n",
      "True is Red:  0.045853695440665976 \n",
      "True is Blue:  0.0002862686060283338\n",
      "\n",
      "Predict Red:\n",
      "True is Black:  0.01687510226850677 \n",
      "True is Blue:  0.009015653826047893\n",
      "\n",
      "Predict Blue:\n",
      "True is Black:  0.0005176825033539556 \n",
      "True is Red:  0.012844008481836556\n"
     ]
    }
   ],
   "source": [
    "# Compute Predicted Misclassification Errors\n",
    "# PRED BLACK TRUE RED\n",
    "e1 = norm.cdf(b0,loc=mus[1]) * priors[1]\n",
    "# PRED BLACK TRUE BLUE\n",
    "e2 = norm.cdf(b0,loc=mus[2]) * priors[2]\n",
    "\n",
    "# PRED RED TRUE BLACK\n",
    "e3 = (norm.cdf(b1,loc=mus[0])-norm.cdf(b0,loc=mus[0])) * priors[0]\n",
    "# PRED RED TRUE BLUE\n",
    "e4 = (norm.cdf(b1,loc=mus[2])-norm.cdf(b0,loc=mus[2])) * priors[2]\n",
    "\n",
    "# PRED BLUE TRUE BLACK\n",
    "e5 = (1-norm.cdf(b1,loc=mus[0])) * priors[0]\n",
    "# PRED BLUE TRUE RED\n",
    "e6 = (1-norm.cdf(b1,loc=mus[1])) * priors[1]\n",
    "\n",
    "print('Predict Black:\\nTrue is Red: ',e1,'\\nTrue is Blue: ',e2)\n",
    "print('\\nPredict Red:\\nTrue is Black: ',e3,'\\nTrue is Blue: ',e4)\n",
    "print('\\nPredict Blue:\\nTrue is Black: ',e5,'\\nTrue is Red: ',e6)"
   ]
  },
  {
   "cell_type": "markdown",
   "metadata": {},
   "source": [
    "### f) Expected error rate"
   ]
  },
  {
   "cell_type": "code",
   "execution_count": 25,
   "metadata": {},
   "outputs": [
    {
     "name": "stdout",
     "output_type": "stream",
     "text": [
      "\n",
      "Total Expected error / Bayes Error Rate / Probability of making a mistake: 0.08539241112643949\n"
     ]
    }
   ],
   "source": [
    "print('\\nTotal Expected error / Bayes Error Rate / Probability of making a mistake:',e1+e2+e3+e4+e5+e6)"
   ]
  },
  {
   "cell_type": "markdown",
   "metadata": {},
   "source": [
    "### g) Simulate 1000 observations from model"
   ]
  },
  {
   "cell_type": "code",
   "execution_count": 30,
   "metadata": {},
   "outputs": [],
   "source": [
    "def simulate(class_means, class_priors, n=1000):\n",
    "    # get y by sampling from class prior\n",
    "    y = np.random.choice([0,1,2], n, p=class_priors)\n",
    "    # use y to sample x from class conditional\n",
    "    x = []\n",
    "    for k in y:\n",
    "        xval = norm.rvs(loc=class_means[k], size=1)[0] # Sampling from a normal Distribution\n",
    "        x.append(xval)\n",
    "    # Return x, y [x=(1000,), y=(1000,)]\n",
    "    return[x,y]"
   ]
  },
  {
   "cell_type": "code",
   "execution_count": 38,
   "metadata": {},
   "outputs": [],
   "source": [
    "x,y = simulate(mus, priors)\n",
    "x_train, x_test, y_train, y_test = train_test_split(x, y, test_size=.4)\n",
    "\n",
    "#reshape to fit sklearn\n",
    "x_train = np.asarray(x_train).reshape(-1,1)\n",
    "x_test = np.asarray(x_test).reshape(-1,1)"
   ]
  },
  {
   "cell_type": "markdown",
   "metadata": {},
   "source": [
    "### h-i) Train model and predict - confusion matrix & errors"
   ]
  },
  {
   "cell_type": "code",
   "execution_count": 39,
   "metadata": {},
   "outputs": [],
   "source": [
    "lda = LinearDiscriminantAnalysis()\n",
    "qda = QuadraticDiscriminantAnalysis()"
   ]
  },
  {
   "cell_type": "code",
   "execution_count": 49,
   "metadata": {},
   "outputs": [
    {
     "name": "stdout",
     "output_type": "stream",
     "text": [
      "Linear Discriminant Analysis (LDA)\n",
      "Accuracy Score:  0.91\n",
      "[[229   5   0]\n",
      " [ 24  21   4]\n",
      " [  0   3 114]]\n"
     ]
    }
   ],
   "source": [
    "print('Linear Discriminant Analysis (LDA)')\n",
    "lda.fit(x_train,y_train)\n",
    "lda_preds = lda.predict(x_test)\n",
    "print('Accuracy Score: ',accuracy_score(y_test,lda_preds))\n",
    "print(confusion_matrix(y_test, lda_preds))"
   ]
  },
  {
   "cell_type": "code",
   "execution_count": 50,
   "metadata": {},
   "outputs": [
    {
     "name": "stdout",
     "output_type": "stream",
     "text": [
      "Quadratic Discriminant Analysis (QDA)\n",
      "Accuracy Score:  0.9125\n",
      "[[229   5   0]\n",
      " [ 23  22   4]\n",
      " [  0   3 114]]\n"
     ]
    }
   ],
   "source": [
    "print('Quadratic Discriminant Analysis (QDA)')\n",
    "qda.fit(x_train,y_train)\n",
    "qda_preds = qda.predict(x_test)\n",
    "print('Accuracy Score: ',accuracy_score(y_test,qda_preds))\n",
    "print(confusion_matrix(y_test, qda_preds))"
   ]
  },
  {
   "cell_type": "code",
   "execution_count": null,
   "metadata": {},
   "outputs": [],
   "source": []
  }
 ],
 "metadata": {
  "kernelspec": {
   "display_name": "Python 3.10.7 64-bit (microsoft store)",
   "language": "python",
   "name": "python3"
  },
  "language_info": {
   "codemirror_mode": {
    "name": "ipython",
    "version": 3
   },
   "file_extension": ".py",
   "mimetype": "text/x-python",
   "name": "python",
   "nbconvert_exporter": "python",
   "pygments_lexer": "ipython3",
   "version": "3.10.7"
  },
  "orig_nbformat": 4,
  "vscode": {
   "interpreter": {
    "hash": "059b92ebffe316512df3810dcdd9739bd5d694b60baa1e9e8136193b1cf34557"
   }
  }
 },
 "nbformat": 4,
 "nbformat_minor": 2
}
