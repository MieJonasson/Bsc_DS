{
 "cells": [
  {
   "cell_type": "markdown",
   "metadata": {},
   "source": [
    "# Dimensionality Reduction\n",
    "### *Using PCA*"
   ]
  },
  {
   "cell_type": "code",
   "execution_count": 1,
   "metadata": {},
   "outputs": [],
   "source": [
    "import numpy as np\n",
    "import pandas as pd\n",
    "import seaborn as sns\n",
    "\n",
    "from matplotlib import pyplot as plt"
   ]
  },
  {
   "cell_type": "code",
   "execution_count": 2,
   "metadata": {},
   "outputs": [],
   "source": [
    "train = pd.read_csv('data/train.csv')\n",
    "test = pd.read_csv('data/test.csv')"
   ]
  },
  {
   "cell_type": "code",
   "execution_count": 5,
   "metadata": {},
   "outputs": [],
   "source": [
    "# Doing a pairplot again\n",
    "# sns.pairplot(train, hue='y', corner=True);"
   ]
  },
  {
   "cell_type": "code",
   "execution_count": 6,
   "metadata": {},
   "outputs": [],
   "source": [
    "xtrain, ytrain = train[['x1', 'x2', 'x3']].to_numpy(), train['y'].to_numpy()\n",
    "xtest, ytest = test[['x1', 'x2', 'x3']].to_numpy(), test['y'].to_numpy()"
   ]
  },
  {
   "cell_type": "code",
   "execution_count": 10,
   "metadata": {},
   "outputs": [
    {
     "name": "stdout",
     "output_type": "stream",
     "text": [
      "[1.0281754  3.75685095 9.51943039]\n",
      "[[ 0.32817347  0.33721881 -0.882375  ]\n",
      " [ 0.31668806 -0.91932561 -0.23355747]\n",
      " [-0.88994991 -0.20279026 -0.40849145]]\n"
     ]
    }
   ],
   "source": [
    "# Find principle components by finding eigenvalues and vectors\n",
    "sample_covariance = np.cov(xtrain.T)\n",
    "eigenvals, eigenvectors = np.linalg.eigh(sample_covariance)\n",
    "# Printing the result; we see that the top eigenvalue is 9.52, and a corresponding eigenvector!\n",
    "print(eigenvals)\n",
    "print(eigenvectors)"
   ]
  },
  {
   "cell_type": "code",
   "execution_count": 12,
   "metadata": {},
   "outputs": [
    {
     "name": "stdout",
     "output_type": "stream",
     "text": [
      "[9.51943039 3.75685095 1.0281754 ]\n",
      "[[-0.882375    0.33721881  0.32817347]\n",
      " [-0.23355747 -0.91932561  0.31668806]\n",
      " [-0.40849145 -0.20279026 -0.88994991]]\n"
     ]
    }
   ],
   "source": [
    "# We'll order eigenvectors by descending eigenvalues!\n",
    "order = np.argsort(eigenvals)[::-1]\n",
    "eigenvals = eigenvals[order]\n",
    "eigenvectors = eigenvectors[:, order]\n",
    "# Printing the correct order - eigenvals are actually the variance!\n",
    "print(eigenvals)\n",
    "print(eigenvectors)"
   ]
  },
  {
   "cell_type": "code",
   "execution_count": 15,
   "metadata": {},
   "outputs": [],
   "source": [
    "pca_xtrain = xtrain @ eigenvectors\n",
    "pca_xtest = xtest @ eigenvectors"
   ]
  },
  {
   "cell_type": "code",
   "execution_count": 22,
   "metadata": {},
   "outputs": [],
   "source": [
    "pca_train = pd.DataFrame(np.c_[pca_xtrain, ytrain], columns=['p1','p2','p3','y'])\n",
    "# Doing a pairplot again againL\n",
    "# sns.pairplot(pca_train, hue='y', corner=True);"
   ]
  },
  {
   "cell_type": "code",
   "execution_count": null,
   "metadata": {},
   "outputs": [],
   "source": []
  }
 ],
 "metadata": {
  "kernelspec": {
   "display_name": "Python 3.10.8 64-bit (microsoft store)",
   "language": "python",
   "name": "python3"
  },
  "language_info": {
   "codemirror_mode": {
    "name": "ipython",
    "version": 3
   },
   "file_extension": ".py",
   "mimetype": "text/x-python",
   "name": "python",
   "nbconvert_exporter": "python",
   "pygments_lexer": "ipython3",
   "version": "3.10.8"
  },
  "orig_nbformat": 4,
  "vscode": {
   "interpreter": {
    "hash": "059b92ebffe316512df3810dcdd9739bd5d694b60baa1e9e8136193b1cf34557"
   }
  }
 },
 "nbformat": 4,
 "nbformat_minor": 2
}
