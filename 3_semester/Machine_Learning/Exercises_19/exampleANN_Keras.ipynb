{
 "cells": [
  {
   "cell_type": "markdown",
   "id": "bfd9370b",
   "metadata": {},
   "source": [
    "## About the notebook\n",
    "---\n",
    "\n",
    "In this notebook, you will learn how to train simple neural net to predict class of given grayscale images using `Keras`."
   ]
  },
  {
   "cell_type": "markdown",
   "id": "a8eb7051",
   "metadata": {},
   "source": [
    "## Data engineering (feel free to skip)\n",
    "---"
   ]
  },
  {
   "cell_type": "markdown",
   "id": "15c0819b",
   "metadata": {},
   "source": [
    "### Imports"
   ]
  },
  {
   "cell_type": "code",
   "execution_count": 1,
   "id": "e32b7044",
   "metadata": {},
   "outputs": [],
   "source": [
    "import matplotlib.pyplot as plt\n",
    "import numpy as np\n",
    "import tensorflow as tf"
   ]
  },
  {
   "cell_type": "markdown",
   "id": "ec440060",
   "metadata": {},
   "source": [
    "### Plotting (helper functions - no need to understand)"
   ]
  },
  {
   "cell_type": "code",
   "execution_count": 2,
   "id": "a160ae3c",
   "metadata": {},
   "outputs": [],
   "source": [
    "def dis_img(x,y, title = None):\n",
    "    \"\"\"\n",
    "    Plots randomly selected set of images\n",
    "    into 4 x 4 grid. \n",
    "    \"\"\"\n",
    "    np.random.seed(213)\n",
    "    indx = np.random.choice(range(x.shape[0]) , 16 )   \n",
    "    fig, ax = plt.subplots(4, 4,\n",
    "                           figsize=(5,5),\n",
    "                           subplot_kw={'xticks': [], 'yticks': []})      \n",
    "    imag = [ (x[ind],y[ind])  for ind in indx] \n",
    "    for coef, ax in zip(imag, ax.ravel()):\n",
    "        ax.imshow(coef[0].reshape(28, 28), cmap=plt.cm.gray)     \n",
    "        ax.set_title(str(coef[1]))\n",
    "        fig.tight_layout()\n",
    "    plt.show()\n",
    "\n",
    "def dis_img_fx(x,y):\n",
    "    \"\"\"\n",
    "    Plots row of input images and corresponding\n",
    "    predicted labels.\n",
    "    \"\"\"\n",
    "    fig, ax = plt.subplots(1, x.shape[0],\n",
    "                               figsize=(5,5),\n",
    "                               subplot_kw={'xticks': [], 'yticks': []})      \n",
    "    indx = np.arange(x.shape[0])\n",
    "    imag = [ (x[ind],y[ind])  for ind in indx] \n",
    "    for coef, ax in zip(imag, ax.ravel()):\n",
    "        ax.imshow(coef[0].reshape(28, 28), cmap=plt.cm.gray)     \n",
    "        ax.set_title(str(coef[1]))\n",
    "        fig.tight_layout()\n",
    "    plt.show()"
   ]
  },
  {
   "cell_type": "markdown",
   "id": "67602adc",
   "metadata": {},
   "source": [
    "### Load data and do train-test split"
   ]
  },
  {
   "cell_type": "code",
   "execution_count": 3,
   "id": "08352e05",
   "metadata": {},
   "outputs": [],
   "source": [
    "# Load data from the via Keras API\n",
    "(x_train, y_train), (x_test, y_test) = tf.keras.datasets.mnist.load_data()\n",
    "\n",
    "# Select subset of data with given two labels\n",
    "Y1 = 1\n",
    "Y2 = 7\n",
    "\n",
    "# - train\n",
    "x_train = x_train[np.where((y_train == Y1) | (y_train == Y2))]\n",
    "y_train_m = y_train[np.where((y_train == Y1) | (y_train == Y2))]\n",
    "\n",
    "# - test\n",
    "x_test = x_test[np.where((y_test == Y1) | (y_test == Y2))]\n",
    "y_test_m = y_test[np.where((y_test == Y1) | (y_test == Y2))]"
   ]
  },
  {
   "cell_type": "markdown",
   "id": "896a6665",
   "metadata": {},
   "source": [
    "### Simple data preprocessing"
   ]
  },
  {
   "cell_type": "code",
   "execution_count": 4,
   "id": "e234b96f",
   "metadata": {},
   "outputs": [],
   "source": [
    "# x_train has shape (n, 28, 28), but we want it to be 2D\n",
    "# therefore we flatten it such that x_train is (n, 28*28) = (n, 784)\n",
    "# In addition, since each pixel is between 0 - 255, we normalize it by / 255\n",
    "x_train = x_train.reshape(-1, 784).astype('float32') /255.\n",
    "x_test = x_test.reshape(-1, 784).astype('float32') /255.\n",
    "\n",
    "# Turn the labels to binary instead of 1 and 7\n",
    "y_train = tf.where(y_train_m==Y1, 1, 0)\n",
    "y_test = tf.where(y_test_m==Y1, 1, 0)"
   ]
  },
  {
   "cell_type": "markdown",
   "id": "22a24f16",
   "metadata": {},
   "source": [
    "### Basic input data info"
   ]
  },
  {
   "cell_type": "code",
   "execution_count": 5,
   "id": "88f72f92",
   "metadata": {
    "scrolled": true
   },
   "outputs": [
    {
     "name": "stdout",
     "output_type": "stream",
     "text": [
      "Training data shape: (13007, 784)\n",
      "Test data shape: (2163, 784)\n",
      "Sample of the training images: \n"
     ]
    },
    {
     "data": {
      "image/png": "[encoded data removed]",
      "text/plain": [
       "<Figure size 360x360 with 16 Axes>"
      ]
     },
     "metadata": {},
     "output_type": "display_data"
    }
   ],
   "source": [
    "print(f\"Training data shape: {x_train.shape}\")\n",
    "print(f\"Test data shape: {x_test.shape}\")\n",
    "print(\"Sample of the training images: \")\n",
    "dis_img(x_train, y_train_m, 'random_samples')"
   ]
  },
  {
   "cell_type": "markdown",
   "id": "cce4a4eb",
   "metadata": {},
   "source": [
    "## ANN training using Keras (important part of the tutorial)\n",
    "\n",
    "---\n",
    "* We can use [Sequential model](https://www.tensorflow.org/api_docs/python/tf/keras/Sequential) which is the simplest kind of Keras models for neural networks that are just composed of a single stack of layers connected sequentially. \n",
    "* We can define Dense to get [Fully connected layer](https://www.tensorflow.org/api_docs/python/tf/keras/layers/Dense)\n",
    "    "
   ]
  },
  {
   "cell_type": "markdown",
   "id": "e2a3844b",
   "metadata": {},
   "source": [
    "### Define model's architecture, loss function and optimizer"
   ]
  },
  {
   "cell_type": "code",
   "execution_count": 6,
   "id": "ef123fd9",
   "metadata": {},
   "outputs": [
    {
     "name": "stdout",
     "output_type": "stream",
     "text": [
      "Model: \"mnist_17\"\n",
      "_________________________________________________________________\n",
      "Layer (type)                 Output Shape              Param #   \n",
      "=================================================================\n",
      "dense (Dense)                (None, 10)                7850      \n",
      "_________________________________________________________________\n",
      "dense_1 (Dense)              (None, 1)                 11        \n",
      "=================================================================\n",
      "Total params: 7,861\n",
      "Trainable params: 7,861\n",
      "Non-trainable params: 0\n",
      "_________________________________________________________________\n"
     ]
    }
   ],
   "source": [
    "# Architecture\n",
    "classifier = tf.keras.Sequential(name='mnist_17')\n",
    "classifier.add(tf.keras.Input(shape=(784,)))\n",
    "classifier.add(tf.keras.layers.Dense(10, activation='relu'))\n",
    "classifier.add(tf.keras.layers.Dense(1, activation='sigmoid'))\n",
    "\n",
    "# Loss, optimizer\n",
    "classifier.compile(loss='binary_crossentropy',\n",
    "                   optimizer= tf.keras.optimizers.SGD(learning_rate=0.01), \n",
    "                   metrics=['accuracy'])\n",
    "\n",
    "# Show overview of the ANN\n",
    "classifier.summary()"
   ]
  },
  {
   "cell_type": "markdown",
   "id": "c09c7a7f",
   "metadata": {},
   "source": [
    "### Training"
   ]
  },
  {
   "cell_type": "code",
   "execution_count": 7,
   "id": "674f2b69",
   "metadata": {},
   "outputs": [
    {
     "name": "stdout",
     "output_type": "stream",
     "text": [
      "Loss:  0.18385018408298492 | Acc:  0.9831629395484924\n"
     ]
    }
   ],
   "source": [
    "history = classifier.fit(x_train, y_train, epochs=150, batch_size=x_train.shape[0], verbose=0)\n",
    "print('Loss: ', history.history['loss'][-1],'| Acc: ', history.history['accuracy'][-1] )"
   ]
  },
  {
   "cell_type": "code",
   "execution_count": 8,
   "id": "2c0aedb5",
   "metadata": {},
   "outputs": [
    {
     "data": {
      "image/png": "[encoded data removed]",
      "text/plain": [
       "<Figure size 432x288 with 1 Axes>"
      ]
     },
     "metadata": {
      "needs_background": "light"
     },
     "output_type": "display_data"
    }
   ],
   "source": [
    "# Training history\n",
    "plt.figure()\n",
    "plt.ylabel('training error')\n",
    "plt.xlabel('epoch')\n",
    "for k in history.history.keys():\n",
    "    plt.plot(history.history[k], label = k);\n",
    "plt.legend(loc='best');"
   ]
  },
  {
   "cell_type": "markdown",
   "id": "d2f7c77c",
   "metadata": {},
   "source": [
    "### Visualize how well the model got trained"
   ]
  },
  {
   "cell_type": "code",
   "execution_count": 10,
   "id": "db8a0332",
   "metadata": {},
   "outputs": [
    {
     "data": {
      "image/png": "[encoded data removed]",
      "text/plain": [
       "<Figure size 360x360 with 10 Axes>"
      ]
     },
     "metadata": {},
     "output_type": "display_data"
    }
   ],
   "source": [
    "# Select first 10 images in test data\n",
    "X_new = x_test[:10]\n",
    "Y_new = y_test[:10]\n",
    "\n",
    "# Make prediction\n",
    "y_pred = classifier.predict(X_new)\n",
    "\n",
    "# Decide based on returned probabilities\n",
    "y_pred = (y_pred.flatten() < 0.5)*Y2 + (y_pred.flatten() >= 0.5)* Y1\n",
    "y_pred = y_pred.tolist() \n",
    "\n",
    "# Show the images with predicted labels\n",
    "dis_img_fx(X_new, y_pred);"
   ]
  },
  {
   "cell_type": "markdown",
   "id": "ba4cb9af",
   "metadata": {},
   "source": [
    "---"
   ]
  }
 ],
 "metadata": {
  "kernelspec": {
   "display_name": "Python 3",
   "language": "python",
   "name": "python3"
  },
  "language_info": {
   "codemirror_mode": {
    "name": "ipython",
    "version": 3
   },
   "file_extension": ".py",
   "mimetype": "text/x-python",
   "name": "python",
   "nbconvert_exporter": "python",
   "pygments_lexer": "ipython3",
   "version": "3.8.2"
  }
 },
 "nbformat": 4,
 "nbformat_minor": 5
}
