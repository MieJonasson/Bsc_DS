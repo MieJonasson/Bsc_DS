{
 "cells": [
  {
   "cell_type": "markdown",
   "id": "36e976f2",
   "metadata": {},
   "source": [
    "# A simple ANN example with pytorch\n",
    "\n",
    "## Problem description \n",
    "We want to define a simple 2-layer ANN for a regression problem:\n",
    "- The problem is to get two real values as inputs and subtract one from the other as the output.\n",
    "- We define a simple ANN with 2 input nodes, 8 hidden nodes in a hidden layer, and 1 output node"
   ]
  },
  {
   "cell_type": "code",
   "execution_count": null,
   "id": "a57cac48",
   "metadata": {},
   "outputs": [],
   "source": [
    "# import libraries\n",
    "from torch.utils.data import Dataset, DataLoader\n",
    "import torch.nn as nn\n",
    "import torch\n",
    "from torch.optim import SGD\n",
    "\n",
    "import matplotlib.pyplot as plt\n",
    "import numpy as np\n"
   ]
  },
  {
   "cell_type": "code",
   "execution_count": null,
   "id": "10a7b4ba",
   "metadata": {},
   "outputs": [],
   "source": [
    "# Training set\n",
    "x = [[7,5],[6,3],[5,2],[4,1],[10,5]]\n",
    "y = [[2],[3],[3],[3],[5]]\n",
    "\n",
    "#device = 'cuda' if torch.cuda.is_available() else 'cpu'\n",
    "#X=torch.tensor(x).float().to(device)\n",
    "#Y=torch.tensor(y).float().to(device)\n",
    "\n",
    "X=torch.tensor(x).float()\n",
    "Y=torch.tensor(y).float()"
   ]
  },
  {
   "cell_type": "code",
   "execution_count": null,
   "id": "4c369f56",
   "metadata": {},
   "outputs": [],
   "source": [
    "# to convert the dataset X,Y into a subclass of torch DataSet so we can easily use dataloader\n",
    "class ModelDataset(Dataset):\n",
    "    def __init__(self,x,y):\n",
    "        self.x = x\n",
    "        self.y = y\n",
    "    def __getitem__(self,idx):\n",
    "        return self.x[idx], self.y[idx]\n",
    "    \n",
    "    def __len__(self):\n",
    "        return len(self.x)"
   ]
  },
  {
   "cell_type": "code",
   "execution_count": null,
   "id": "e46a757a",
   "metadata": {},
   "outputs": [],
   "source": [
    "ds = ModelDataset(X,Y)\n",
    "\n",
    "# set the batch size here\n",
    "dataloader = DataLoader(ds, batch_size=2, shuffle=True)"
   ]
  },
  {
   "cell_type": "markdown",
   "id": "61b14e51",
   "metadata": {},
   "source": [
    "Here we define the ANN model. We can use Sequential to define the network one layer after the other. \n",
    "For every layer \n",
    "\n",
    "We use nn.Sequential to define our model as a sequence of layers. \n",
    "Sequential is a Module which contains other Modules, and applies them in sequence to produce its output. \n",
    "The Linear Module computes output from input using a linear function, and holds internal Tensors for its weight and bias (acts like $z(X)=\\sum_i w_i x_i + b  $).\n",
    "After a Linear Module, we might need to add the activation function, e.g., ReLU"
   ]
  },
  {
   "cell_type": "code",
   "execution_count": null,
   "id": "0f08c3b0",
   "metadata": {},
   "outputs": [],
   "source": [
    "\n",
    "# define the model with 2 input nodes, 8 hidden nodes (in one hidden layer), and 1 node in the output layer\n",
    "\n",
    "model = nn.Sequential(nn.Linear(2,8), nn.ReLU(), nn.Linear(8,1))\n",
    "#model = nn.Sequential(nn.Linear(2,8), nn.ReLU(), nn.Linear(8,1)).to(device)\n",
    "\n",
    "\n",
    "# define the loss function (there are many loss predefined loss functions that we ca use)\n",
    "\n",
    "loss = nn.MSELoss()\n",
    "\n",
    "# define the optimization method (here mini-batch SGD), learning rate, to use for optimizing the learnable \n",
    "# model parameters (wieghts and biases)\n",
    "\n",
    "opt = SGD(model.parameters(), lr=0.01)\n",
    "\n",
    "# define a list to collect the loss values in every GD step (we will plot it later)\n",
    "loss_history = []\n",
    "\n",
    "# specify the number of epochs\n",
    "num_epochs = 1000\n",
    "for _ in range(num_epochs):\n",
    "    for data in dataloader:\n",
    "        x,y = data\n",
    "        \n",
    "        opt.zero_grad()  # to flush out the previous gradients\n",
    "        \n",
    "        # Forward pass: compute predicted y by passing x to the model. When\n",
    "        # doing so you pass a Tensor of input data to the Module and it produces\n",
    "        # a Tensor of output data.\n",
    "        outputs = model(x)\n",
    "        \n",
    "        # Compute and print loss. We pass Tensors containing the predicted and true\n",
    "        # values of y, and the loss function returns a Tensor containing the loss\n",
    "        loss_value = loss(outputs,y)\n",
    "        \n",
    "        # Backward pass: compute gradient of the loss with respect to all the learnable\n",
    "        # parameters of the model. Internally, the parameters of each Module are stored\n",
    "        # in Tensors with requires_grad=True, so this call will compute gradients for\n",
    "        # all learnable parameters in the model.\n",
    "        loss_value.backward() \n",
    "        \n",
    "        # Update the weights using gradient descent.\n",
    "        opt.step() \n",
    "        \n",
    "        #  record the history of the loss values\n",
    "        loss_history.append(loss_value.detach()) # .detach() detaches the pytorch tensor from the gradient \n"
   ]
  },
  {
   "cell_type": "code",
   "execution_count": null,
   "id": "63bea684",
   "metadata": {},
   "outputs": [],
   "source": [
    "# Print the model structure\n",
    "print(model.state_dict())"
   ]
  },
  {
   "cell_type": "code",
   "execution_count": null,
   "id": "29f07e75",
   "metadata": {
    "scrolled": true
   },
   "outputs": [],
   "source": [
    "# Plot the history of loss during training\n",
    "plt.plot(loss_history)\n",
    "plt.xlabel('epochs')\n",
    "plt.ylabel('loss values')\n",
    "plt.show()\n"
   ]
  },
  {
   "cell_type": "code",
   "execution_count": null,
   "id": "898a102b",
   "metadata": {},
   "outputs": [],
   "source": [
    "# Use the model for prediction\n",
    "test_vals = [[10,2], [4,1],[5,3]]\n",
    "\n",
    "#test_vals = torch.tensor(test_vals).float().to(device)\n",
    "test_vals = torch.tensor(test_vals).float()\n",
    "\n",
    "print(model(test_vals).detach().numpy())"
   ]
  },
  {
   "cell_type": "code",
   "execution_count": null,
   "id": "a8422718",
   "metadata": {},
   "outputs": [],
   "source": []
  }
 ],
 "metadata": {
  "kernelspec": {
   "display_name": "Python 3",
   "language": "python",
   "name": "python3"
  },
  "language_info": {
   "codemirror_mode": {
    "name": "ipython",
    "version": 3
   },
   "file_extension": ".py",
   "mimetype": "text/x-python",
   "name": "python",
   "nbconvert_exporter": "python",
   "pygments_lexer": "ipython3",
   "version": "3.8.2"
  }
 },
 "nbformat": 4,
 "nbformat_minor": 5
}
